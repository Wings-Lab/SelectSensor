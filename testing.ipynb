{
 "cells": [
  {
   "cell_type": "code",
   "execution_count": 1,
   "metadata": {
    "collapsed": true
   },
   "outputs": [],
   "source": [
    "import random\n",
    "import numpy as np\n",
    "import seaborn as sns\n",
    "import math\n",
    "import os\n",
    "import time\n",
    "import multiprocessing\n",
    "from decimal import Decimal\n",
    "import matplotlib.pyplot as plt\n",
    "import traceback\n",
    "import pandas as pd\n",
    "from scipy.stats import multivariate_normal\n",
    "from scipy.stats import norm\n",
    "from select_sensor import SelectSensor\n",
    "from sensor import Sensor\n",
    "from joblib import Memory, Parallel, delayed\n",
    "%matplotlib inline"
   ]
  },
  {
   "cell_type": "code",
   "execution_count": null,
   "metadata": {
    "collapsed": true
   },
   "outputs": [],
   "source": [
    "selectsensor = SelectSensor('config.json')\n",
    "\n",
    "selectsensor.read_init_sensor('data/sensor.txt')\n",
    "selectsensor.read_mean_std('data/mean_std.txt')\n",
    "selectsensor.compute_multivariant_gaussian('data/artificial_samples.csv')\n",
    "\n",
    "start = time.time()\n",
    "subset_list = selectsensor.select_offline_greedy(5)\n",
    "print('The selected subset is: ', subset_list)\n",
    "\n",
    "print('time elapsed:', time.time()-start)"
   ]
  },
  {
   "cell_type": "code",
   "execution_count": null,
   "metadata": {
    "collapsed": true,
    "scrolled": true
   },
   "outputs": [],
   "source": [
    "selectsensor = SelectSensor('config.json')\n",
    "\n",
    "selectsensor.read_init_sensor('data/sensor.txt')\n",
    "selectsensor.read_mean_std('data/mean_std.txt')\n",
    "selectsensor.compute_multivariant_gaussian('data/artificial_samples.csv')\n",
    "\n",
    "start = time.time()\n",
    "plot_data = selectsensor.select_online_greedy_p(4, 4)\n",
    "print('The plot data is: ', plot_data)\n",
    "\n",
    "print('time elapsed:', time.time()-start)"
   ]
  },
  {
   "cell_type": "code",
   "execution_count": null,
   "metadata": {
    "collapsed": true
   },
   "outputs": [],
   "source": [
    "#visualize the sensors and errors\n",
    "\n",
    "sensors = {}\n",
    "with open('data/sensor.txt', 'r') as f:\n",
    "    lines = f.readlines()\n",
    "    for line in lines:\n",
    "        line = line.split(' ')\n",
    "        x, y, std = int(line[0]), int(line[1]), float(line[2])\n",
    "        sensors[(x, y)] = Sensor(x, y, std)\n",
    "        \n",
    "grid = np.zeros((15, 15))\n",
    "for sensor in sensors:\n",
    "    x, y = sensor[0], sensor[1]\n",
    "    grid[x][y] = 1\n",
    "\n",
    "'''\n",
    "with open('data/higherror.txt', 'r') as f:\n",
    "    lines = f.readlines()\n",
    "    for line in lines:\n",
    "        line = line.replace('(', '')\n",
    "        line = line.replace(', ', ' ')\n",
    "        line = line.replace(') ', '')\n",
    "        line = line.strip()\n",
    "        line = line.split(' ')\n",
    "        x, y, e = int(line[0]), int(line[1]), float(line[2])\n",
    "        if e > 0:\n",
    "            if grid[x][y] > 0.99:\n",
    "                grid[x][y] = 0.5\n",
    "            else:\n",
    "                grid[x][y] = -e/10\n",
    "'''"
   ]
  },
  {
   "cell_type": "code",
   "execution_count": 125,
   "metadata": {},
   "outputs": [
    {
     "data": {
      "image/png": "[encoded data removed]",
      "text/plain": [
       "<matplotlib.figure.Figure at 0x1a211cc5c0>"
      ]
     },
     "metadata": {},
     "output_type": "display_data"
    }
   ],
   "source": [
    "sns.set(style=\"white\")\n",
    "\n",
    "# Set up the matplotlib figure\n",
    "f, ax = plt.subplots(figsize=(7, 7))\n",
    "\n",
    "# Generate a custom diverging colormap\n",
    "cmap = sns.diverging_palette(220, 10, as_cmap=True)\n",
    "\n",
    "# Draw the heatmap with the mask and correct aspect ratio\n",
    "sns.heatmap(grid, cmap=cmap, vmax=1, center=0,\n",
    "            square=True, linewidth=3, cbar_kws={\"shrink\": .5})\n",
    "\n",
    "plt.show()"
   ]
  },
  {
   "cell_type": "code",
   "execution_count": 29,
   "metadata": {
    "collapsed": true
   },
   "outputs": [],
   "source": [
    "# visualize selected and not selected sensors\n",
    "\n",
    "sensors = {}\n",
    "with open('data/sensor.txt', 'r') as f:\n",
    "    lines = f.readlines()\n",
    "    for line in lines:\n",
    "        line = line.split(' ')\n",
    "        x, y, std = int(line[0]), int(line[1]), float(line[2])\n",
    "        sensors[(x, y)] = Sensor(x, y, std)\n",
    "        \n",
    "grid = np.zeros((15, 15))\n",
    "selected = [0, 3, 6, 8, 9, 12, 15, 17, 18, 19]\n",
    "i, j = 0, 0\n",
    "for sensor in sensors:\n",
    "    x, y = sensor[0], sensor[1]\n",
    "    if i == selected[j]:\n",
    "        grid[x][y] = 1\n",
    "        j += 1\n",
    "    else:\n",
    "        grid[x][y] = -1\n",
    "    i += 1"
   ]
  },
  {
   "cell_type": "code",
   "execution_count": 221,
   "metadata": {
    "collapsed": true
   },
   "outputs": [],
   "source": [
    "myconfig = {\n",
    "    256: 0.388882393442197,\n",
    "    512: 0.38711563194200865,\n",
    "    1024: 0.3982618184652559,\n",
    "    2048: 0.4226197435597646,\n",
    "    4096: 0.4608519427881055,\n",
    "    8192: 0.5318082024500825,\n",
    "    16384: 0.6709536614833002\n",
    "}"
   ]
  },
  {
   "cell_type": "code",
   "execution_count": null,
   "metadata": {
    "collapsed": true,
    "scrolled": false
   },
   "outputs": [],
   "source": [
    "homo = pd.read_csv('data2/homogeneous/hypothesis', header=None, delimiter=' ')\n",
    "homo[5] = homo[5].astype(float)\n",
    "homo"
   ]
  },
  {
   "cell_type": "code",
   "execution_count": 267,
   "metadata": {
    "collapsed": true
   },
   "outputs": [],
   "source": [
    "size = len(homo)\n",
    "homo[5]\n",
    "for i in range(size):\n",
    "    config = homo.iloc[i, 5]\n",
    "    homo.set_value(i, 5, myconfig.get(config))"
   ]
  },
  {
   "cell_type": "code",
   "execution_count": 268,
   "metadata": {
    "collapsed": true
   },
   "outputs": [],
   "source": [
    "homo.to_csv('data2/homogeneous/hypothesis', header=False, index=False)"
   ]
  },
  {
   "cell_type": "code",
   "execution_count": null,
   "metadata": {
    "collapsed": true,
    "scrolled": true
   },
   "outputs": [],
   "source": [
    "homo"
   ]
  },
  {
   "cell_type": "code",
   "execution_count": 203,
   "metadata": {},
   "outputs": [
    {
     "data": {
      "text/plain": [
       "0.38887482106213006"
      ]
     },
     "execution_count": 203,
     "metadata": {},
     "output_type": "execute_result"
    }
   ],
   "source": [
    "myconfig.get(256)"
   ]
  },
  {
   "cell_type": "code",
   "execution_count": null,
   "metadata": {
    "collapsed": true,
    "scrolled": false
   },
   "outputs": [],
   "source": [
    "hetero = pd.read_csv('data2/heterogeneous/hypothesis', header=None, delimiter=' ')\n",
    "hetero[5] = hetero[5].astype(float)\n",
    "hetero"
   ]
  },
  {
   "cell_type": "code",
   "execution_count": 273,
   "metadata": {
    "collapsed": true
   },
   "outputs": [],
   "source": [
    "size = len(hetero)\n",
    "hetero[5]\n",
    "for i in range(size):\n",
    "    config = hetero.iloc[i, 5]\n",
    "    hetero.set_value(i, 5, myconfig.get(config))"
   ]
  },
  {
   "cell_type": "code",
   "execution_count": 274,
   "metadata": {
    "collapsed": true
   },
   "outputs": [],
   "source": [
    "hetero.to_csv('data2/heterogeneous/hypothesis', header=False, index=False)"
   ]
  },
  {
   "cell_type": "code",
   "execution_count": null,
   "metadata": {
    "collapsed": true,
    "scrolled": true
   },
   "outputs": [],
   "source": [
    "subset_to_compute = []\n",
    "ot_approx = []\n",
    "with open('plot_data3/ot_approx', 'r') as f:\n",
    "    lines = f.readlines()\n",
    "    for line in lines:\n",
    "        line = line.replace('[', '')\n",
    "        line = line.replace(']', ',')\n",
    "        line = line.replace('\\n', '')\n",
    "        line = line.replace(' ', '')\n",
    "        line = line.split(',')\n",
    "        size = len(line)\n",
    "        subset = []\n",
    "        for i in range(size-1):\n",
    "            index = int(line[i])\n",
    "            subset.append(index)\n",
    "        ot_approx.append(line[size-1])\n",
    "        subset_to_compute.append(subset)\n",
    "print(subset_to_compute)\n",
    "print(ot_approx)"
   ]
  },
  {
   "cell_type": "code",
   "execution_count": 263,
   "metadata": {
    "collapsed": true
   },
   "outputs": [],
   "source": [
    "num = [i for i in range(1, len(ot_approx)+1)]\n",
    "ot_a = pd.DataFrame(np.array([num, ot_approx]).T)"
   ]
  },
  {
   "cell_type": "code",
   "execution_count": 265,
   "metadata": {
    "collapsed": true
   },
   "outputs": [],
   "source": [
    "ot_a.to_csv('plot_data3/ot_approx.csv', index=False, header=False)"
   ]
  },
  {
   "cell_type": "code",
   "execution_count": 3,
   "metadata": {},
   "outputs": [
    {
     "name": "stdout",
     "output_type": "stream",
     "text": [
      "init done!\n",
      "(4, 17)\n",
      "(27, 7)\n",
      "(27, 28)\n",
      "(5, 9)\n",
      "(26, 24)\n",
      "(5, 0)\n",
      "(2, 13)\n",
      "(0, 28)\n",
      "(14, 17)\n",
      "(16, 26)\n",
      "(0, 7)\n",
      "(24, 11)\n",
      "(8, 21)\n",
      "(19, 15)\n",
      "(20, 21)\n",
      "(5, 6)\n",
      "(24, 18)\n",
      "(6, 27)\n",
      "(21, 8)\n",
      "(25, 2)\n",
      "(17, 0)\n",
      "(23, 25)\n",
      "(15, 8)\n",
      "(22, 3)\n",
      "(11, 2)\n",
      "(12, 22)\n",
      "(9, 9)\n",
      "(3, 22)\n"
     ]
    }
   ],
   "source": [
    "selectsensor = SelectSensor('config.json')\n",
    " \n",
    "selectsensor.init_from_real_data('data2/homogeneous/cov', 'data2/homogeneous/sensors', 'data2/homogeneous/hypothesis')\n",
    "sen_index = [1, 9, 13, 17, 21, 22, 23, 25, 27, 31, 33, 47, 51, 55, 60, 64, 67, 68, 69, 73, 74, 78, 80, 82, 88, 94, 95, 96]\n",
    "sensor_list = list(selectsensor.sensors)\n",
    "for index in sen_index: \n",
    "    print(sensor_list[index])"
   ]
  },
  {
   "cell_type": "code",
   "execution_count": null,
   "metadata": {
    "collapsed": true
   },
   "outputs": [],
   "source": []
  }
 ],
 "metadata": {
  "kernelspec": {
   "display_name": "Python 3",
   "language": "python",
   "name": "python3"
  },
  "language_info": {
   "codemirror_mode": {
    "name": "ipython",
    "version": 3
   },
   "file_extension": ".py",
   "mimetype": "text/x-python",
   "name": "python",
   "nbconvert_exporter": "python",
   "pygments_lexer": "ipython3",
   "version": "3.6.3"
  }
 },
 "nbformat": 4,
 "nbformat_minor": 2
}
