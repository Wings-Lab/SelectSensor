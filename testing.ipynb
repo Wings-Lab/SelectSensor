{
 "cells": [
  {
   "cell_type": "code",
   "execution_count": 75,
   "metadata": {
    "collapsed": true
   },
   "outputs": [],
   "source": [
    "import random\n",
    "import numpy as np\n",
    "import seaborn as sns\n",
    "import math\n",
    "import os\n",
    "import time\n",
    "import multiprocessing\n",
    "from decimal import Decimal\n",
    "import matplotlib.pyplot as plt\n",
    "import traceback\n",
    "import pandas as pd\n",
    "from scipy.stats import multivariate_normal\n",
    "from scipy.stats import norm\n",
    "from select_sensor import SelectSensor\n",
    "from sensor import Sensor\n",
    "from joblib import Memory, Parallel, delayed\n",
    "%matplotlib inline"
   ]
  },
  {
   "cell_type": "code",
   "execution_count": 53,
   "metadata": {},
   "outputs": [
    {
     "name": "stdout",
     "output_type": "stream",
     "text": [
      "Computed covariance!\n",
      "[0] 0.0166434544566\n",
      "[1] 0.0129393306223\n",
      "[2] 0.0165262357847\n",
      "[3] 0.0141985524828\n",
      "[4] 0.0108603993687\n",
      "[5] 0.0111011826022\n",
      "[6] 0.0102953855245\n",
      "[7] 0.0147877462679\n",
      "[8] 0.0167445501893\n",
      "[9] 0.0155235920825\n",
      "[10] 0.012660428033\n",
      "[11] 0.0121858146591\n",
      "[12] 0.0102195031677\n",
      "[13] 0.00978124151763\n",
      "[14] 0.0237937312591\n",
      "[15] 0.013729890385\n",
      "[16] 0.0158147795756\n",
      "[17] 0.01165224123\n",
      "[18] 0.0198806698734\n",
      "[19] 0.0101222680479\n",
      "[0, 14] 0.135293070248\n",
      "[1, 14] 0.243360825596\n",
      "[2, 14] 0.197714035746\n",
      "[3, 14] 0.155870182349\n",
      "[4, 14] 0.177980837284\n",
      "[5, 14] 0.321260296624\n",
      "[6, 14] 0.281379432808\n",
      "[7, 14] 0.157376392437\n",
      "[8, 14] 0.243329916834\n",
      "[9, 14] 0.273156922763\n",
      "[10, 14] 0.256020635737\n",
      "[11, 14] 0.302540686694\n",
      "[12, 14] 0.257390958426\n",
      "[13, 14] 0.127444404573\n",
      "[14, 15] 0.104903226602\n",
      "[14, 16] 0.184608437475\n",
      "[14, 17] 0.173271874648\n",
      "[14, 18] 0.25062809301\n",
      "[14, 19] 0.258306791083\n",
      "[0, 5, 14] 0.440125699419\n",
      "[1, 5, 14] 0.769800228593\n",
      "[2, 5, 14] 0.703490683749\n",
      "[3, 5, 14] 0.632895142518\n",
      "[4, 5, 14] 0.742842397248\n",
      "[5, 6, 14] 0.7435882438\n",
      "[5, 7, 14] 0.552652542285\n",
      "[5, 8, 14] 0.585928547147\n",
      "[5, 9, 14] 0.510585392391\n",
      "[5, 10, 14] 0.627247029586\n",
      "[5, 11, 14] 0.526821778459\n",
      "[5, 12, 14] 0.489047476347\n",
      "[5, 13, 14] 0.526159580658\n",
      "[5, 14, 15] 0.605945925644\n",
      "[5, 14, 16] 0.758608996223\n",
      "[5, 14, 17] 0.692371794883\n",
      "[5, 14, 18] 0.758035592396\n",
      "[5, 14, 19] 0.762619436045\n",
      "[0, 1, 5, 14] 0.81980327931\n",
      "[1, 2, 5, 14] 0.899487487232\n",
      "[1, 3, 5, 14] 0.88728518264\n",
      "[1, 4, 5, 14] 0.873640568448\n",
      "[1, 5, 6, 14] 0.905527186633\n",
      "[1, 5, 7, 14] 0.846454410448\n",
      "[1, 5, 8, 14] 0.870267728366\n",
      "[1, 5, 9, 14] 0.814475013605\n",
      "[1, 5, 10, 14] 0.884348413541\n",
      "[1, 5, 11, 14] 0.822980788889\n",
      "[1, 5, 12, 14] 0.836512668718\n",
      "[1, 5, 13, 14] 0.847593558449\n",
      "[1, 5, 14, 15] 0.871830742904\n",
      "[1, 5, 14, 16] 0.901541605881\n",
      "[1, 5, 14, 17] 0.875906754034\n",
      "[1, 5, 14, 18] 0.900817190448\n",
      "[1, 5, 14, 19] 0.879008183436\n",
      "[0, 1, 5, 6, 14] 0.929889212442\n",
      "[1, 2, 5, 6, 14] 0.937330870918\n",
      "[1, 3, 5, 6, 14] 0.928044736319\n",
      "[1, 4, 5, 6, 14] 0.939918441586\n",
      "[1, 5, 6, 7, 14] 0.942383102616\n",
      "[1, 5, 6, 8, 14] 0.943464698663\n",
      "[1, 5, 6, 9, 14] 0.93337955238\n",
      "[1, 5, 6, 10, 14] 0.948955097041\n",
      "[1, 5, 6, 11, 14] 0.938197414172\n",
      "[1, 5, 6, 12, 14] 0.940101238748\n",
      "[1, 5, 6, 13, 14] 0.938196176633\n",
      "[1, 5, 6, 14, 15] 0.93141648376\n",
      "[1, 5, 6, 14, 16] 0.95076470311\n",
      "[1, 5, 6, 14, 17] 0.945405980932\n",
      "[1, 5, 6, 14, 18] 0.94474030498\n",
      "[1, 5, 6, 14, 19] 0.930961958506\n",
      "The selected subset is:  [1, 5, 6, 14, 16]\n",
      "time elapsed: 333.8542091846466\n"
     ]
    }
   ],
   "source": [
    "start = time.time()\n",
    "\n",
    "selectsensor = SelectSensor('config.json')\n",
    "\n",
    "selectsensor.read_init_sensor('data/sensor.txt')\n",
    "selectsensor.read_mean_std('data/mean_std.txt')\n",
    "selectsensor.compute_multivariant_gaussian('data/artificial_samples.csv')\n",
    "\n",
    "subset_list = selectsensor.select_offline_greedy(5)\n",
    "print('The selected subset is: ', subset_list)\n",
    "\n",
    "print('time elapsed:', time.time()-start)"
   ]
  },
  {
   "cell_type": "code",
   "execution_count": 2,
   "metadata": {},
   "outputs": [
    {
     "name": "stdout",
     "output_type": "stream",
     "text": [
      "Computed covariance!\n",
      "[0] 0.0166434544566\n",
      "[1] 0.0129393306223\n",
      "[2] 0.0165262357847\n",
      "[3] 0.0141985524828\n",
      "[4] 0.0108603993687\n",
      "[5] 0.0111011826022\n",
      "[6] 0.0102953855245\n",
      "[7] 0.0147877462679\n",
      "[8] 0.0167445501893\n",
      "[9] 0.0155235920825\n",
      "[10] 0.012660428033\n",
      "[11] 0.0121858146591\n",
      "[12] 0.0102195031677\n",
      "[13] 0.00978124151763\n",
      "[14] 0.0237937312591\n",
      "[15] 0.013729890385\n",
      "[16] 0.0158147795756\n",
      "[17] 0.01165224123\n",
      "[18] 0.0198806698734\n",
      "[19] 0.0101222680479\n",
      "[0, 14] 0.135293070248\n",
      "[1, 14] 0.243360825596\n",
      "[2, 14] 0.197714035746\n",
      "[3, 14] 0.155870182349\n",
      "[4, 14] 0.177980837284\n",
      "[5, 14] 0.321260296624\n",
      "[6, 14] 0.281379432808\n",
      "[7, 14] 0.157376392437\n",
      "[8, 14] 0.243329916834\n",
      "[9, 14] 0.273156922763\n",
      "[10, 14] 0.256020635737\n",
      "[11, 14] 0.302540686694\n",
      "[12, 14] 0.257390958426\n",
      "[13, 14] 0.127444404573\n",
      "[14, 15] 0.104903226602\n",
      "[14, 16] 0.184608437475\n",
      "[14, 17] 0.173271874648\n",
      "[14, 18] 0.25062809301\n",
      "[14, 19] 0.258306791083\n",
      "[0, 5, 14] 0.440125699419\n",
      "[1, 5, 14] 0.769800228593\n",
      "[2, 5, 14] 0.703490683749\n",
      "[3, 5, 14] 0.632895142518\n",
      "[4, 5, 14] 0.742842397248\n",
      "[5, 6, 14] 0.7435882438\n",
      "[5, 7, 14] 0.552652542285\n",
      "[5, 8, 14] 0.585928547147\n",
      "[5, 9, 14] 0.510585392391\n",
      "[5, 10, 14] 0.627247029586\n",
      "[5, 11, 14] 0.526821778459\n",
      "[5, 12, 14] 0.489047476347\n",
      "[5, 13, 14] 0.526159580658\n",
      "[5, 14, 15] 0.605945925644\n",
      "[5, 14, 16] 0.758608996223\n",
      "[5, 14, 17] 0.692371794883\n",
      "[5, 14, 18] 0.758035592396\n",
      "[5, 14, 19] 0.762619436045\n",
      "[0, 1, 5, 14] 0.81980327931\n",
      "[1, 2, 5, 14] 0.899487487232\n",
      "[1, 3, 5, 14] 0.88728518264\n",
      "[1, 4, 5, 14] 0.873640568448\n",
      "[1, 5, 6, 14] 0.905527186633\n",
      "[1, 5, 7, 14] 0.846454410448\n",
      "[1, 5, 8, 14] 0.870267728366\n",
      "[1, 5, 9, 14] 0.814475013605\n",
      "[1, 5, 10, 14] 0.884348413541\n",
      "[1, 5, 11, 14] 0.822980788889\n",
      "[1, 5, 12, 14] 0.836512668718\n",
      "[1, 5, 13, 14] 0.847593558449\n",
      "[1, 5, 14, 15] 0.871830742904\n",
      "[1, 5, 14, 16] 0.901541605881\n",
      "[1, 5, 14, 17] 0.875906754034\n",
      "[1, 5, 14, 18] 0.900817190448\n",
      "[1, 5, 14, 19] 0.879008183436\n",
      "[0, 1, 5, 6, 14] 0.929889212442\n",
      "[1, 2, 5, 6, 14] 0.937330870918\n",
      "[1, 3, 5, 6, 14] 0.928044736319\n",
      "[1, 4, 5, 6, 14] 0.939918441586\n",
      "[1, 5, 6, 7, 14] 0.942383102616\n",
      "[1, 5, 6, 8, 14] 0.943464698663\n",
      "[1, 5, 6, 9, 14] 0.93337955238\n",
      "[1, 5, 6, 10, 14] 0.948955097041\n",
      "[1, 5, 6, 11, 14] 0.938197414172\n",
      "[1, 5, 6, 12, 14] 0.940101238748\n",
      "[1, 5, 6, 13, 14] 0.938196176633\n",
      "[1, 5, 6, 14, 15] 0.93141648376\n",
      "[1, 5, 6, 14, 16] 0.95076470311\n",
      "[1, 5, 6, 14, 17] 0.945405980932\n",
      "[1, 5, 6, 14, 18] 0.94474030498\n",
      "[1, 5, 6, 14, 19] 0.930961958506\n",
      "The selected subset is:  [1, 5, 6, 14, 16]\n",
      "time elapsed: 173.13089108467102\n"
     ]
    }
   ],
   "source": [
    "start = time.time()\n",
    "\n",
    "selectsensor = SelectSensor('config.json')\n",
    "\n",
    "selectsensor.read_init_sensor('data/sensor.txt')\n",
    "selectsensor.read_mean_std('data/mean_std.txt')\n",
    "selectsensor.compute_multivariant_gaussian('data/artificial_samples.csv')\n",
    "\n",
    "subset_list = selectsensor.select_offline_greedy_p(5, 2)\n",
    "print('The selected subset is: ', subset_list)\n",
    "\n",
    "print('time elapsed:', time.time()-start)"
   ]
  },
  {
   "cell_type": "code",
   "execution_count": 9,
   "metadata": {
    "collapsed": true
   },
   "outputs": [],
   "source": [
    "#visualize the sensors and errors\n",
    "\n",
    "sensors = {}\n",
    "with open('data/sensor.txt', 'r') as f:\n",
    "    lines = f.readlines()\n",
    "    for line in lines:\n",
    "        line = line.split(' ')\n",
    "        x, y, std = int(line[0]), int(line[1]), float(line[2])\n",
    "        sensors[(x, y)] = Sensor(x, y, std)\n",
    "        \n",
    "grid = np.zeros((15, 15))\n",
    "for sensor in sensors:\n",
    "    x, y = sensor[0], sensor[1]\n",
    "    grid[x][y] = 1\n",
    "\n",
    "with open('data/higherror.txt', 'r') as f:\n",
    "    lines = f.readlines()\n",
    "    for line in lines:\n",
    "        line = line.replace('(', '')\n",
    "        line = line.replace(', ', ' ')\n",
    "        line = line.replace(') ', '')\n",
    "        line = line.strip()\n",
    "        line = line.split(' ')\n",
    "        x, y, e = int(line[0]), int(line[1]), float(line[2])\n",
    "        if e > 0:\n",
    "            if grid[x][y] > 0.99:\n",
    "                grid[x][y] = 0.5\n",
    "            else:\n",
    "                grid[x][y] = -e/10"
   ]
  },
  {
   "cell_type": "code",
   "execution_count": 30,
   "metadata": {},
   "outputs": [
    {
     "data": {
      "image/png": "[encoded data removed]",
      "text/plain": [
       "<matplotlib.figure.Figure at 0x10f0fe748>"
      ]
     },
     "metadata": {},
     "output_type": "display_data"
    }
   ],
   "source": [
    "sns.set(style=\"white\")\n",
    "\n",
    "# Set up the matplotlib figure\n",
    "f, ax = plt.subplots(figsize=(7, 7))\n",
    "\n",
    "# Generate a custom diverging colormap\n",
    "cmap = sns.diverging_palette(220, 10, as_cmap=True)\n",
    "\n",
    "# Draw the heatmap with the mask and correct aspect ratio\n",
    "sns.heatmap(grid, cmap=cmap, vmax=1, center=0,\n",
    "            square=True, linewidth=3, cbar_kws={\"shrink\": .5})\n",
    "\n",
    "plt.show()"
   ]
  },
  {
   "cell_type": "code",
   "execution_count": 29,
   "metadata": {
    "collapsed": true
   },
   "outputs": [],
   "source": [
    "# visualize selected and not selected sensors\n",
    "\n",
    "sensors = {}\n",
    "with open('data/sensor.txt', 'r') as f:\n",
    "    lines = f.readlines()\n",
    "    for line in lines:\n",
    "        line = line.split(' ')\n",
    "        x, y, std = int(line[0]), int(line[1]), float(line[2])\n",
    "        sensors[(x, y)] = Sensor(x, y, std)\n",
    "        \n",
    "grid = np.zeros((15, 15))\n",
    "selected = [0, 3, 6, 8, 9, 12, 15, 17, 18, 19]\n",
    "i, j = 0, 0\n",
    "for sensor in sensors:\n",
    "    x, y = sensor[0], sensor[1]\n",
    "    if i == selected[j]:\n",
    "        grid[x][y] = 1\n",
    "        j += 1\n",
    "    else:\n",
    "        grid[x][y] = -1\n",
    "    i += 1"
   ]
  },
  {
   "cell_type": "code",
   "execution_count": 117,
   "metadata": {
    "collapsed": true
   },
   "outputs": [],
   "source": [
    "def mean(dist):\n",
    "    return 100 - 19.6*math.log(2*dist)"
   ]
  },
  {
   "cell_type": "code",
   "execution_count": 63,
   "metadata": {},
   "outputs": [
    {
     "data": {
      "text/html": [
       "<div>\n",
       "<style>\n",
       "    .dataframe thead tr:only-child th {\n",
       "        text-align: right;\n",
       "    }\n",
       "\n",
       "    .dataframe thead th {\n",
       "        text-align: left;\n",
       "    }\n",
       "\n",
       "    .dataframe tbody tr th {\n",
       "        vertical-align: top;\n",
       "    }\n",
       "</style>\n",
       "<table border=\"1\" class=\"dataframe\">\n",
       "  <thead>\n",
       "    <tr style=\"text-align: right;\">\n",
       "      <th></th>\n",
       "      <th>0</th>\n",
       "      <th>1</th>\n",
       "    </tr>\n",
       "  </thead>\n",
       "  <tbody>\n",
       "    <tr>\n",
       "      <th>0</th>\n",
       "      <td>1024</td>\n",
       "      <td>0.841995</td>\n",
       "    </tr>\n",
       "    <tr>\n",
       "      <th>7</th>\n",
       "      <td>64</td>\n",
       "      <td>0.792529</td>\n",
       "    </tr>\n",
       "    <tr>\n",
       "      <th>2</th>\n",
       "      <td>2048</td>\n",
       "      <td>0.882824</td>\n",
       "    </tr>\n",
       "    <tr>\n",
       "      <th>5</th>\n",
       "      <td>4096</td>\n",
       "      <td>1.000000</td>\n",
       "    </tr>\n",
       "    <tr>\n",
       "      <th>1</th>\n",
       "      <td>128</td>\n",
       "      <td>0.804355</td>\n",
       "    </tr>\n",
       "    <tr>\n",
       "      <th>6</th>\n",
       "      <td>512</td>\n",
       "      <td>0.820576</td>\n",
       "    </tr>\n",
       "    <tr>\n",
       "      <th>3</th>\n",
       "      <td>256</td>\n",
       "      <td>0.810056</td>\n",
       "    </tr>\n",
       "    <tr>\n",
       "      <th>4</th>\n",
       "      <td>32</td>\n",
       "      <td>0.782156</td>\n",
       "    </tr>\n",
       "  </tbody>\n",
       "</table>\n",
       "</div>"
      ],
      "text/plain": [
       "      0         1\n",
       "0  1024  0.841995\n",
       "7    64  0.792529\n",
       "2  2048  0.882824\n",
       "5  4096  1.000000\n",
       "1   128  0.804355\n",
       "6   512  0.820576\n",
       "3   256  0.810056\n",
       "4    32  0.782156"
      ]
     },
     "execution_count": 63,
     "metadata": {},
     "output_type": "execute_result"
    }
   ],
   "source": [
    "energy = pd.read_csv('data/energy.txt', header=None)\n",
    "energy = energy.iloc[np.random.permutation(energy.index)]\n",
    "energy"
   ]
  },
  {
   "cell_type": "code",
   "execution_count": 114,
   "metadata": {},
   "outputs": [
    {
     "data": {
      "text/plain": [
       "[<matplotlib.lines.Line2D at 0x1a21b2ed30>]"
      ]
     },
     "execution_count": 114,
     "metadata": {},
     "output_type": "execute_result"
    },
    {
     "data": {
      "image/png": "[encoded data removed]",
      "text/plain": [
       "<matplotlib.figure.Figure at 0x110d50b70>"
      ]
     },
     "metadata": {},
     "output_type": "display_data"
    }
   ],
   "source": [
    "data = pd.read_csv('plot_data2/Offline_Random_30.csv', header=None)\n",
    "X = list(data[0])\n",
    "Y = list(data[1])\n",
    "plt.plot(X, Y)"
   ]
  },
  {
   "cell_type": "code",
   "execution_count": 115,
   "metadata": {},
   "outputs": [
    {
     "data": {
      "text/plain": [
       "[<matplotlib.lines.Line2D at 0x1a213313c8>]"
      ]
     },
     "execution_count": 115,
     "metadata": {},
     "output_type": "execute_result"
    },
    {
     "data": {
      "image/png": "[encoded data removed]",
      "text/plain": [
       "<matplotlib.figure.Figure at 0x1a214a3198>"
      ]
     },
     "metadata": {},
     "output_type": "display_data"
    }
   ],
   "source": [
    "data = pd.read_csv('plot_data2/Offline_Greedy_30.csv', header=None)\n",
    "X = list(data[0])\n",
    "Y = list(data[1])\n",
    "plt.plot(X, Y)"
   ]
  },
  {
   "cell_type": "code",
   "execution_count": 116,
   "metadata": {},
   "outputs": [
    {
     "data": {
      "text/plain": [
       "[<matplotlib.lines.Line2D at 0x1a213945f8>]"
      ]
     },
     "execution_count": 116,
     "metadata": {},
     "output_type": "execute_result"
    },
    {
     "data": {
      "image/png": "[encoded data removed]",
      "text/plain": [
       "<matplotlib.figure.Figure at 0x110d59ac8>"
      ]
     },
     "metadata": {},
     "output_type": "display_data"
    }
   ],
   "source": [
    "data = pd.read_csv('plot_data2/Latency_20.csv', header=None)\n",
    "X = list(data[0])\n",
    "Y = list(data[1])\n",
    "plt.plot(X, Y)"
   ]
  },
  {
   "cell_type": "code",
   "execution_count": 92,
   "metadata": {},
   "outputs": [
    {
     "data": {
      "text/plain": [
       "2.1642314616541114"
      ]
     },
     "execution_count": 92,
     "metadata": {},
     "output_type": "execute_result"
    }
   ],
   "source": [
    "mean(29*math.sqrt(2))"
   ]
  },
  {
   "cell_type": "code",
   "execution_count": 101,
   "metadata": {},
   "outputs": [
    {
     "name": "stdout",
     "output_type": "stream",
     "text": [
      "7\n",
      "7\n",
      "1\n",
      "5\n",
      "9\n",
      "8\n",
      "7\n",
      "5\n",
      "8\n"
     ]
    }
   ],
   "source": [
    "random.seed(0)\n",
    "for i in range(9):\n",
    "    print(random.choice([1, 2, 3, 4, 5, 6, 7, 8, 9]))"
   ]
  },
  {
   "cell_type": "code",
   "execution_count": 105,
   "metadata": {},
   "outputs": [],
   "source": [
    "approx = pd.read_csv('plot_data2/test_of_approx.csv', header=None)"
   ]
  },
  {
   "cell_type": "code",
   "execution_count": 106,
   "metadata": {},
   "outputs": [
    {
     "data": {
      "text/html": [
       "<div>\n",
       "<style>\n",
       "    .dataframe thead tr:only-child th {\n",
       "        text-align: right;\n",
       "    }\n",
       "\n",
       "    .dataframe thead th {\n",
       "        text-align: left;\n",
       "    }\n",
       "\n",
       "    .dataframe tbody tr th {\n",
       "        vertical-align: top;\n",
       "    }\n",
       "</style>\n",
       "<table border=\"1\" class=\"dataframe\">\n",
       "  <thead>\n",
       "    <tr style=\"text-align: right;\">\n",
       "      <th></th>\n",
       "      <th>0</th>\n",
       "      <th>1</th>\n",
       "    </tr>\n",
       "  </thead>\n",
       "  <tbody>\n",
       "    <tr>\n",
       "      <th>0</th>\n",
       "      <td>1</td>\n",
       "      <td>-8.827051</td>\n",
       "    </tr>\n",
       "    <tr>\n",
       "      <th>1</th>\n",
       "      <td>2</td>\n",
       "      <td>-0.123268</td>\n",
       "    </tr>\n",
       "    <tr>\n",
       "      <th>2</th>\n",
       "      <td>3</td>\n",
       "      <td>0.691544</td>\n",
       "    </tr>\n",
       "    <tr>\n",
       "      <th>3</th>\n",
       "      <td>4</td>\n",
       "      <td>0.908960</td>\n",
       "    </tr>\n",
       "    <tr>\n",
       "      <th>4</th>\n",
       "      <td>5</td>\n",
       "      <td>0.952367</td>\n",
       "    </tr>\n",
       "    <tr>\n",
       "      <th>5</th>\n",
       "      <td>6</td>\n",
       "      <td>0.968814</td>\n",
       "    </tr>\n",
       "    <tr>\n",
       "      <th>6</th>\n",
       "      <td>7</td>\n",
       "      <td>0.981200</td>\n",
       "    </tr>\n",
       "    <tr>\n",
       "      <th>7</th>\n",
       "      <td>8</td>\n",
       "      <td>0.987472</td>\n",
       "    </tr>\n",
       "    <tr>\n",
       "      <th>8</th>\n",
       "      <td>9</td>\n",
       "      <td>0.991710</td>\n",
       "    </tr>\n",
       "    <tr>\n",
       "      <th>9</th>\n",
       "      <td>10</td>\n",
       "      <td>0.994356</td>\n",
       "    </tr>\n",
       "  </tbody>\n",
       "</table>\n",
       "</div>"
      ],
      "text/plain": [
       "    0         1\n",
       "0   1 -8.827051\n",
       "1   2 -0.123268\n",
       "2   3  0.691544\n",
       "3   4  0.908960\n",
       "4   5  0.952367\n",
       "5   6  0.968814\n",
       "6   7  0.981200\n",
       "7   8  0.987472\n",
       "8   9  0.991710\n",
       "9  10  0.994356"
      ]
     },
     "execution_count": 106,
     "metadata": {},
     "output_type": "execute_result"
    }
   ],
   "source": [
    "approx"
   ]
  },
  {
   "cell_type": "code",
   "execution_count": 110,
   "metadata": {},
   "outputs": [
    {
     "name": "stdout",
     "output_type": "stream",
     "text": [
      "8.70378249163\n",
      "0.81481197244\n",
      "0.217416098995\n",
      "0.043407689242\n",
      "0.01644699347\n",
      "0.012385384393\n",
      "0.006272078407\n",
      "0.004238064961\n"
     ]
    }
   ],
   "source": [
    "for i in range(len(approx[1])-2):\n",
    "    print(approx[1][i+1] - approx[1][i])"
   ]
  },
  {
   "cell_type": "code",
   "execution_count": 113,
   "metadata": {},
   "outputs": [
    {
     "name": "stdout",
     "output_type": "stream",
     "text": [
      "2\n",
      "4\n",
      "6\n",
      "8\n",
      "10\n",
      "12\n",
      "14\n",
      "16\n",
      "18\n"
     ]
    }
   ],
   "source": [
    "for i in range(2, 20, 2):\n",
    "    print(i)"
   ]
  },
  {
   "cell_type": "code",
   "execution_count": null,
   "metadata": {
    "collapsed": true
   },
   "outputs": [],
   "source": []
  },
  {
   "cell_type": "code",
   "execution_count": null,
   "metadata": {
    "collapsed": true
   },
   "outputs": [],
   "source": []
  },
  {
   "cell_type": "code",
   "execution_count": null,
   "metadata": {
    "collapsed": true
   },
   "outputs": [],
   "source": []
  },
  {
   "cell_type": "code",
   "execution_count": null,
   "metadata": {
    "collapsed": true
   },
   "outputs": [],
   "source": []
  },
  {
   "cell_type": "code",
   "execution_count": null,
   "metadata": {
    "collapsed": true
   },
   "outputs": [],
   "source": []
  },
  {
   "cell_type": "code",
   "execution_count": null,
   "metadata": {
    "collapsed": true
   },
   "outputs": [],
   "source": []
  }
 ],
 "metadata": {
  "kernelspec": {
   "display_name": "Python 3",
   "language": "python",
   "name": "python3"
  },
  "language_info": {
   "codemirror_mode": {
    "name": "ipython",
    "version": 3
   },
   "file_extension": ".py",
   "mimetype": "text/x-python",
   "name": "python",
   "nbconvert_exporter": "python",
   "pygments_lexer": "ipython3",
   "version": "3.6.3"
  }
 },
 "nbformat": 4,
 "nbformat_minor": 2
}
