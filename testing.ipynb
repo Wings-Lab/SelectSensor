{
 "cells": [
  {
   "cell_type": "code",
   "execution_count": 1,
   "metadata": {
    "collapsed": true
   },
   "outputs": [],
   "source": [
    "import random\n",
    "import numpy as np\n",
    "import seaborn as sns\n",
    "import math\n",
    "import os\n",
    "import time\n",
    "import multiprocessing\n",
    "from decimal import Decimal\n",
    "import matplotlib.pyplot as plt\n",
    "import traceback\n",
    "import pandas as pd\n",
    "from scipy.stats import multivariate_normal\n",
    "from scipy.stats import norm\n",
    "from select_sensor import SelectSensor\n",
    "from sensor import Sensor\n",
    "from joblib import Memory, Parallel, delayed\n",
    "%matplotlib inline"
   ]
  },
  {
   "cell_type": "code",
   "execution_count": 2,
   "metadata": {},
   "outputs": [
    {
     "name": "stdout",
     "output_type": "stream",
     "text": [
      "Computed covariance!\n",
      "[0] -14.2032423517\n",
      "[1] -11.5213106168\n",
      "[2] -6.6724615458\n",
      "[3] -13.6821174371\n",
      "[4] -20.5816916792\n",
      "[5] -35.4891919175\n",
      "[6] -21.9446023032\n",
      "[7] -15.2654842091\n",
      "[8] -13.1892678247\n",
      "[9] -25.8192730129\n",
      "[10] -19.533449786\n",
      "[11] -24.9268760163\n",
      "[12] -12.6913962135\n",
      "[13] -10.5013991963\n",
      "[14] -18.5031769155\n",
      "[15] -24.2404420283\n",
      "[16] -21.0787282228\n",
      "[17] -22.4142194873\n",
      "[18] -28.21042437\n",
      "[19] -12.6367895029\n",
      "[20] -12.6234541688\n",
      "[21] -11.4290844874\n",
      "[22] -22.3989552752\n",
      "[23] -35.2956124381\n",
      "[0, 2] -0.0827980640277\n",
      "[1, 2] 0.174193188436\n",
      "[2, 3] -0.00267052202267\n",
      "[2, 4] -0.320017048905\n",
      "[2, 5] -3.5299461897\n",
      "[2, 6] -1.60521112754\n",
      "[2, 7] -0.166800604652\n",
      "[2, 8] -0.46939172652\n",
      "[2, 9] -1.26633683764\n",
      "[2, 10] -1.21846571406\n",
      "[2, 11] -0.985800427099\n",
      "[2, 12] -0.354501346054\n",
      "[2, 13] -2.28980045928\n",
      "[2, 14] -0.232845002992\n",
      "[2, 15] -2.23036210145\n",
      "[2, 16] -0.618276473527\n",
      "[2, 17] -1.11488833727\n",
      "[2, 18] -0.761529498081\n",
      "[2, 19] -2.03961960396\n",
      "[2, 20] -1.61484492609\n",
      "[2, 21] -0.382559566714\n",
      "[2, 22] -0.378791472224\n",
      "[2, 23] -3.20080549457\n",
      "[0, 1, 2] 0.923970970787\n",
      "[1, 2, 3] 0.425441450247\n",
      "[1, 2, 4] 0.406472596264\n",
      "[1, 2, 5] 0.635496661203\n",
      "[1, 2, 6] 0.498173269755\n",
      "[1, 2, 7] 0.692702076269\n",
      "[1, 2, 8] 0.856483607764\n",
      "[1, 2, 9] 0.426020007473\n",
      "[1, 2, 10] 0.477656073326\n",
      "[1, 2, 11] 0.854451230509\n",
      "[1, 2, 12] 0.788355453929\n",
      "[1, 2, 13] 0.719917706269\n",
      "[1, 2, 14] 0.310135271461\n",
      "[1, 2, 15] 0.797806424992\n",
      "[1, 2, 16] 0.664096524966\n",
      "[1, 2, 17] 0.836892708762\n",
      "[1, 2, 18] 0.251684226713\n",
      "[1, 2, 19] 0.719109454941\n",
      "[1, 2, 20] 0.63829655603\n",
      "[1, 2, 21] 0.514381637035\n",
      "[1, 2, 22] 0.319027246344\n",
      "[1, 2, 23] 0.675175129606\n",
      "[0, 1, 2, 3] 0.956986045092\n",
      "[0, 1, 2, 4] 0.954095824838\n",
      "[0, 1, 2, 5] 0.95738036075\n",
      "[0, 1, 2, 6] 0.963867252725\n",
      "[0, 1, 2, 7] 0.96032245804\n",
      "[0, 1, 2, 8] 0.953306163847\n",
      "[0, 1, 2, 9] 0.95868890947\n",
      "[0, 1, 2, 10] 0.961092462162\n",
      "[0, 1, 2, 11] 0.947042006097\n",
      "[0, 1, 2, 12] 0.948582891542\n",
      "[0, 1, 2, 13] 0.960972310731\n",
      "[0, 1, 2, 14] 0.938212232059\n",
      "[0, 1, 2, 15] 0.966883959977\n",
      "[0, 1, 2, 16] 0.959050719899\n",
      "[0, 1, 2, 17] 0.958983321872\n",
      "[0, 1, 2, 18] 0.9381338321\n",
      "[0, 1, 2, 19] 0.961661575371\n",
      "[0, 1, 2, 20] 0.963348361916\n",
      "[0, 1, 2, 21] 0.953025778466\n",
      "[0, 1, 2, 22] 0.945833959996\n",
      "[0, 1, 2, 23] 0.959326851276\n",
      "[0, 1, 2, 3, 15] 0.981285480169\n",
      "[0, 1, 2, 4, 15] 0.993922344069\n",
      "[0, 1, 2, 5, 15] 0.967463051484\n",
      "[0, 1, 2, 6, 15] 0.979205068888\n",
      "[0, 1, 2, 7, 15] 0.994582706188\n",
      "[0, 1, 2, 8, 15] 0.967245475124\n",
      "[0, 1, 2, 9, 15] 0.980980281053\n",
      "[0, 1, 2, 10, 15] 0.978629036036\n",
      "[0, 1, 2, 11, 15] 0.972825950627\n",
      "[0, 1, 2, 12, 15] 0.98465380224\n",
      "[0, 1, 2, 13, 15] 0.970712289224\n",
      "[0, 1, 2, 14, 15] 0.979819629545\n",
      "[0, 1, 2, 15, 16] 0.993288760507\n",
      "[0, 1, 2, 15, 17] 0.969858206268\n",
      "[0, 1, 2, 15, 18] 0.981003352098\n",
      "[0, 1, 2, 15, 19] 0.971945480407\n",
      "[0, 1, 2, 15, 20] 0.975312851182\n",
      "[0, 1, 2, 15, 21] 0.974921147627\n",
      "[0, 1, 2, 15, 22] 0.988515875191\n",
      "[0, 1, 2, 15, 23] 0.96693312123\n",
      "[0, 1, 2, 3, 7, 15] 0.997966747494\n",
      "[0, 1, 2, 4, 7, 15] 0.995571873924\n",
      "[0, 1, 2, 5, 7, 15] 0.9951431268\n",
      "[0, 1, 2, 6, 7, 15] 0.998967030917\n",
      "[0, 1, 2, 7, 8, 15] 0.994632760684\n",
      "[0, 1, 2, 7, 9, 15] 0.99869199234\n",
      "[0, 1, 2, 7, 10, 15] 0.998593860962\n",
      "[0, 1, 2, 7, 11, 15] 0.99463022773\n",
      "[0, 1, 2, 7, 12, 15] 0.995811570561\n",
      "[0, 1, 2, 7, 13, 15] 0.998038529319\n",
      "[0, 1, 2, 7, 14, 15] 0.996737007229\n",
      "[0, 1, 2, 7, 15, 16] 0.994861513596\n",
      "[0, 1, 2, 7, 15, 17] 0.994605943542\n",
      "[0, 1, 2, 7, 15, 18] 0.99604658669\n",
      "[0, 1, 2, 7, 15, 19] 0.998449018859\n",
      "[0, 1, 2, 7, 15, 20] 0.998505258811\n",
      "[0, 1, 2, 7, 15, 21] 0.997258878252\n",
      "[0, 1, 2, 7, 15, 22] 0.997629037465\n",
      "[0, 1, 2, 7, 15, 23] 0.994626094091\n",
      "[0, 1, 2, 3, 6, 7, 15] 0.999645857586\n",
      "[0, 1, 2, 4, 6, 7, 15] 0.999203141082\n",
      "[0, 1, 2, 5, 6, 7, 15] 0.99903403239\n",
      "[0, 1, 2, 6, 7, 8, 15] 0.998996748907\n",
      "[0, 1, 2, 6, 7, 9, 15] 0.999671323905\n",
      "[0, 1, 2, 6, 7, 10, 15] 0.999427061019\n",
      "[0, 1, 2, 6, 7, 11, 15] 0.999010286653\n",
      "[0, 1, 2, 6, 7, 12, 15] 0.999187156906\n",
      "[0, 1, 2, 6, 7, 13, 15] 0.999604222656\n",
      "[0, 1, 2, 6, 7, 14, 15] 0.999380658289\n",
      "[0, 1, 2, 6, 7, 15, 16] 0.999159287336\n",
      "[0, 1, 2, 6, 7, 15, 17] 0.998982302831\n",
      "[0, 1, 2, 6, 7, 15, 18] 0.99928995278\n",
      "[0, 1, 2, 6, 7, 15, 19] 0.999684842515\n",
      "[0, 1, 2, 6, 7, 15, 20] 0.999614796038\n",
      "[0, 1, 2, 6, 7, 15, 21] 0.999233560382\n",
      "[0, 1, 2, 6, 7, 15, 22] 0.999634349189\n",
      "[0, 1, 2, 6, 7, 15, 23] 0.998993420876\n",
      "[0, 1, 2, 3, 6, 7, 15, 19] 0.999827638235\n",
      "[0, 1, 2, 4, 6, 7, 15, 19] 0.99988198421\n",
      "[0, 1, 2, 5, 6, 7, 15, 19] 0.999685585187\n",
      "[0, 1, 2, 6, 7, 8, 15, 19] 0.999692122829\n",
      "[0, 1, 2, 6, 7, 9, 15, 19] 0.999806068861\n",
      "[0, 1, 2, 6, 7, 10, 15, 19] 0.999769555557\n",
      "[0, 1, 2, 6, 7, 11, 15, 19] 0.99972424588\n",
      "[0, 1, 2, 6, 7, 12, 15, 19] 0.999784942884\n",
      "[0, 1, 2, 6, 7, 13, 15, 19] 0.999699522563\n",
      "[0, 1, 2, 6, 7, 14, 15, 19] 0.999801239783\n",
      "[0, 1, 2, 6, 7, 15, 16, 19] 0.999858995408\n",
      "[0, 1, 2, 6, 7, 15, 17, 19] 0.999692654523\n",
      "[0, 1, 2, 6, 7, 15, 18, 19] 0.999856960021\n",
      "[0, 1, 2, 6, 7, 15, 19, 20] 0.99971599111\n",
      "[0, 1, 2, 6, 7, 15, 19, 21] 0.99976379687\n",
      "[0, 1, 2, 6, 7, 15, 19, 22] 0.999866894351\n",
      "[0, 1, 2, 6, 7, 15, 19, 23] 0.999685280729\n",
      "[0, 1, 2, 3, 4, 6, 7, 15, 19] 0.99994812062\n",
      "[0, 1, 2, 4, 5, 6, 7, 15, 19] 0.99988265809\n",
      "[0, 1, 2, 4, 6, 7, 8, 15, 19] 0.99988836941\n",
      "[0, 1, 2, 4, 6, 7, 9, 15, 19] 0.99994228995\n",
      "[0, 1, 2, 4, 6, 7, 10, 15, 19] 0.999928857179\n",
      "[0, 1, 2, 4, 6, 7, 11, 15, 19] 0.999908220851\n",
      "[0, 1, 2, 4, 6, 7, 12, 15, 19] 0.999920147982\n",
      "[0, 1, 2, 4, 6, 7, 13, 15, 19] 0.999895953621\n",
      "[0, 1, 2, 4, 6, 7, 14, 15, 19] 0.9999238784\n",
      "[0, 1, 2, 4, 6, 7, 15, 16, 19] 0.999936863273\n",
      "[0, 1, 2, 4, 6, 7, 15, 17, 19] 0.999887491458\n",
      "[0, 1, 2, 4, 6, 7, 15, 18, 19] 0.999925381349\n",
      "[0, 1, 2, 4, 6, 7, 15, 19, 20] 0.999896887301\n",
      "[0, 1, 2, 4, 6, 7, 15, 19, 21] 0.999920173418\n",
      "[0, 1, 2, 4, 6, 7, 15, 19, 22] 0.999943789064\n",
      "[0, 1, 2, 4, 6, 7, 15, 19, 23] 0.9998823381\n",
      "[0, 1, 2, 3, 4, 5, 6, 7, 15, 19] 0.999948503833\n",
      "[0, 1, 2, 3, 4, 6, 7, 8, 15, 19] 0.999952434512\n",
      "[0, 1, 2, 3, 4, 6, 7, 9, 15, 19] 0.999949283841\n",
      "[0, 1, 2, 3, 4, 6, 7, 10, 15, 19] 0.999949047745\n",
      "[0, 1, 2, 3, 4, 6, 7, 11, 15, 19] 0.999974122914\n",
      "[0, 1, 2, 3, 4, 6, 7, 12, 15, 19] 0.99996557252\n",
      "[0, 1, 2, 3, 4, 6, 7, 13, 15, 19] 0.999950407775\n",
      "[0, 1, 2, 3, 4, 6, 7, 14, 15, 19] 0.999949038152\n",
      "[0, 1, 2, 3, 4, 6, 7, 15, 16, 19] 0.999992679209\n",
      "[0, 1, 2, 3, 4, 6, 7, 15, 17, 19] 0.999953220107\n",
      "[0, 1, 2, 3, 4, 6, 7, 15, 18, 19] 0.999950504988\n",
      "[0, 1, 2, 3, 4, 6, 7, 15, 19, 20] 0.999949741697\n",
      "[0, 1, 2, 3, 4, 6, 7, 15, 19, 21] 0.999950070576\n",
      "[0, 1, 2, 3, 4, 6, 7, 15, 19, 22] 0.999950616428\n",
      "[0, 1, 2, 3, 4, 6, 7, 15, 19, 23] 0.999948454311\n",
      "time elapsed: 374.0847909450531\n"
     ]
    }
   ],
   "source": [
    "selectsensor = SelectSensor('config.json')\n",
    "\n",
    "selectsensor.read_init_sensor('data/sensor.txt')\n",
    "selectsensor.read_mean_std('data/mean_std.txt')\n",
    "selectsensor.compute_multivariant_gaussian('data/artificial_samples.csv')\n",
    "\n",
    "start = time.time()\n",
    "selectsensor.select_offline_greedy_p(10, 4)\n",
    "print('time elapsed:', time.time()-start)"
   ]
  },
  {
   "cell_type": "code",
   "execution_count": 4,
   "metadata": {
    "scrolled": true
   },
   "outputs": [
    {
     "name": "stdout",
     "output_type": "stream",
     "text": [
      "Computed covariance!\n",
      "[0] -14.2032423517\n",
      "[1] -11.5213106168\n",
      "[2] -6.6724615458\n",
      "[3] -13.6821174371\n",
      "[4] -20.5816916792\n",
      "[5] -35.4891919175\n",
      "[6] -21.9446023032\n",
      "[7] -15.2654842091\n",
      "[8] -13.1892678247\n",
      "[9] -25.8192730129\n",
      "[10] -19.533449786\n",
      "[11] -24.9268760163\n",
      "[12] -12.6913962135\n",
      "[13] -10.5013991963\n",
      "[14] -18.5031769155\n",
      "[15] -24.2404420283\n",
      "[16] -21.0787282228\n",
      "[17] -22.4142194873\n",
      "[18] -28.21042437\n",
      "[19] -12.6367895029\n",
      "[20] -12.6234541688\n",
      "[21] -11.4290844874\n",
      "[22] -22.3989552752\n",
      "[23] -35.2956124381\n",
      "[0, 2] -0.0827980640277\n",
      "[1, 2] 0.174193188436\n",
      "[2, 3] -0.00267052202267\n",
      "[2, 4] -0.320017048905\n",
      "[2, 5] -3.5299461897\n",
      "[2, 6] -1.60521112754\n",
      "[2, 7] -0.166800604652\n",
      "[2, 8] -0.46939172652\n",
      "[2, 9] -1.26633683764\n",
      "[2, 10] -1.21846571406\n",
      "[2, 11] -0.985800427099\n",
      "[2, 12] -0.354501346054\n",
      "[2, 13] -2.28980045928\n",
      "[2, 14] -0.232845002992\n",
      "[2, 15] -2.23036210145\n",
      "[2, 16] -0.618276473527\n",
      "[2, 17] -1.11488833727\n",
      "[2, 18] -0.761529498081\n",
      "[2, 19] -2.03961960396\n",
      "[2, 20] -1.61484492609\n",
      "[2, 21] -0.382559566714\n",
      "[2, 22] -0.378791472224\n",
      "[2, 23] -3.20080549457\n",
      "[0, 1, 2] 0.923970970787\n",
      "[1, 2, 3] 0.425441450247\n",
      "[1, 2, 4] 0.406472596264\n",
      "[1, 2, 5] 0.635496661203\n",
      "[1, 2, 6] 0.498173269755\n",
      "[1, 2, 7] 0.692702076269\n",
      "[1, 2, 8] 0.856483607764\n",
      "[1, 2, 9] 0.426020007473\n",
      "[1, 2, 10] 0.477656073326\n",
      "[1, 2, 11] 0.854451230509\n",
      "[1, 2, 12] 0.788355453929\n",
      "[1, 2, 13] 0.719917706269\n",
      "[1, 2, 14] 0.310135271461\n",
      "[1, 2, 15] 0.797806424992\n",
      "[1, 2, 16] 0.664096524966\n",
      "[1, 2, 17] 0.836892708762\n",
      "[1, 2, 18] 0.251684226713\n",
      "[1, 2, 19] 0.719109454941\n",
      "[1, 2, 20] 0.63829655603\n",
      "[1, 2, 21] 0.514381637035\n",
      "[1, 2, 22] 0.319027246344\n",
      "[1, 2, 23] 0.675175129606\n",
      "[0, 1, 2, 3] 0.956986045092\n",
      "[0, 1, 2, 4] 0.954095824838\n",
      "[0, 1, 2, 5] 0.95738036075\n",
      "[0, 1, 2, 6] 0.963867252725\n",
      "[0, 1, 2, 7] 0.96032245804\n",
      "[0, 1, 2, 8] 0.953306163847\n",
      "[0, 1, 2, 9] 0.95868890947\n",
      "[0, 1, 2, 10] 0.961092462162\n",
      "[0, 1, 2, 11] 0.947042006097\n",
      "[0, 1, 2, 12] 0.948582891542\n",
      "[0, 1, 2, 13] 0.960972310731\n",
      "[0, 1, 2, 14] 0.938212232059\n",
      "[0, 1, 2, 15] 0.966883959977\n",
      "[0, 1, 2, 16] 0.959050719899\n",
      "[0, 1, 2, 17] 0.958983321872\n",
      "[0, 1, 2, 18] 0.9381338321\n",
      "[0, 1, 2, 19] 0.961661575371\n",
      "[0, 1, 2, 20] 0.963348361916\n",
      "[0, 1, 2, 21] 0.953025778466\n",
      "[0, 1, 2, 22] 0.945833959996\n",
      "[0, 1, 2, 23] 0.959326851276\n",
      "[0, 1, 2, 3, 15] 0.981285480169\n",
      "[0, 1, 2, 4, 15] 0.993922344069\n",
      "[0, 1, 2, 5, 15] 0.967463051484\n",
      "[0, 1, 2, 6, 15] 0.979205068888\n",
      "[0, 1, 2, 7, 15] 0.994582706188\n",
      "[0, 1, 2, 8, 15] 0.967245475124\n",
      "[0, 1, 2, 9, 15] 0.980980281053\n",
      "[0, 1, 2, 10, 15] 0.978629036036\n",
      "[0, 1, 2, 11, 15] 0.972825950627\n",
      "[0, 1, 2, 12, 15] 0.98465380224\n",
      "[0, 1, 2, 13, 15] 0.970712289224\n",
      "[0, 1, 2, 14, 15] 0.979819629545\n",
      "[0, 1, 2, 15, 16] 0.993288760507\n",
      "[0, 1, 2, 15, 17] 0.969858206268\n",
      "[0, 1, 2, 15, 18] 0.981003352098\n",
      "[0, 1, 2, 15, 19] 0.971945480407\n",
      "[0, 1, 2, 15, 20] 0.975312851182\n",
      "[0, 1, 2, 15, 21] 0.974921147627\n",
      "[0, 1, 2, 15, 22] 0.988515875191\n",
      "[0, 1, 2, 15, 23] 0.96693312123\n",
      "[0, 1, 2, 3, 7, 15] 0.997966747494\n",
      "[0, 1, 2, 4, 7, 15] 0.995571873924\n",
      "[0, 1, 2, 5, 7, 15] 0.9951431268\n",
      "[0, 1, 2, 6, 7, 15] 0.998967030917\n",
      "[0, 1, 2, 7, 8, 15] 0.994632760684\n",
      "[0, 1, 2, 7, 9, 15] 0.99869199234\n",
      "[0, 1, 2, 7, 10, 15] 0.998593860962\n",
      "[0, 1, 2, 7, 11, 15] 0.99463022773\n",
      "[0, 1, 2, 7, 12, 15] 0.995811570561\n",
      "[0, 1, 2, 7, 13, 15] 0.998038529319\n",
      "[0, 1, 2, 7, 14, 15] 0.996737007229\n",
      "[0, 1, 2, 7, 15, 16] 0.994861513596\n",
      "[0, 1, 2, 7, 15, 17] 0.994605943542\n",
      "[0, 1, 2, 7, 15, 18] 0.99604658669\n",
      "[0, 1, 2, 7, 15, 19] 0.998449018859\n",
      "[0, 1, 2, 7, 15, 20] 0.998505258811\n",
      "[0, 1, 2, 7, 15, 21] 0.997258878252\n",
      "[0, 1, 2, 7, 15, 22] 0.997629037465\n",
      "[0, 1, 2, 7, 15, 23] 0.994626094091\n",
      "[0, 1, 2, 3, 6, 7, 15] 0.999645857586\n",
      "[0, 1, 2, 4, 6, 7, 15] 0.999203141082\n",
      "[0, 1, 2, 5, 6, 7, 15] 0.99903403239\n",
      "[0, 1, 2, 6, 7, 8, 15] 0.998996748907\n",
      "[0, 1, 2, 6, 7, 9, 15] 0.999671323905\n",
      "[0, 1, 2, 6, 7, 10, 15] 0.999427061019\n",
      "[0, 1, 2, 6, 7, 11, 15] 0.999010286653\n",
      "[0, 1, 2, 6, 7, 12, 15] 0.999187156906\n",
      "[0, 1, 2, 6, 7, 13, 15] 0.999604222656\n",
      "[0, 1, 2, 6, 7, 14, 15] 0.999380658289\n",
      "[0, 1, 2, 6, 7, 15, 16] 0.999159287336\n",
      "[0, 1, 2, 6, 7, 15, 17] 0.998982302831\n",
      "[0, 1, 2, 6, 7, 15, 18] 0.99928995278\n",
      "[0, 1, 2, 6, 7, 15, 19] 0.999684842515\n",
      "[0, 1, 2, 6, 7, 15, 20] 0.999614796038\n",
      "[0, 1, 2, 6, 7, 15, 21] 0.999233560382\n",
      "[0, 1, 2, 6, 7, 15, 22] 0.999634349189\n",
      "[0, 1, 2, 6, 7, 15, 23] 0.998993420876\n",
      "[0, 1, 2, 3, 6, 7, 15, 19] 0.999827638235\n",
      "[0, 1, 2, 4, 6, 7, 15, 19] 0.99988198421\n",
      "[0, 1, 2, 5, 6, 7, 15, 19] 0.999685585187\n",
      "[0, 1, 2, 6, 7, 8, 15, 19] 0.999692122829\n",
      "[0, 1, 2, 6, 7, 9, 15, 19] 0.999806068861\n",
      "[0, 1, 2, 6, 7, 10, 15, 19] 0.999769555557\n",
      "[0, 1, 2, 6, 7, 11, 15, 19] 0.99972424588\n",
      "[0, 1, 2, 6, 7, 12, 15, 19] 0.999784942884\n",
      "[0, 1, 2, 6, 7, 13, 15, 19] 0.999699522563\n",
      "[0, 1, 2, 6, 7, 14, 15, 19] 0.999801239783\n",
      "[0, 1, 2, 6, 7, 15, 16, 19] 0.999858995408\n",
      "[0, 1, 2, 6, 7, 15, 17, 19] 0.999692654523\n",
      "[0, 1, 2, 6, 7, 15, 18, 19] 0.999856960021\n",
      "[0, 1, 2, 6, 7, 15, 19, 20] 0.99971599111\n",
      "[0, 1, 2, 6, 7, 15, 19, 21] 0.99976379687\n",
      "[0, 1, 2, 6, 7, 15, 19, 22] 0.999866894351\n",
      "[0, 1, 2, 6, 7, 15, 19, 23] 0.999685280729\n",
      "[0, 1, 2, 3, 4, 6, 7, 15, 19] 0.99994812062\n",
      "[0, 1, 2, 4, 5, 6, 7, 15, 19] 0.99988265809\n",
      "[0, 1, 2, 4, 6, 7, 8, 15, 19] 0.99988836941\n",
      "[0, 1, 2, 4, 6, 7, 9, 15, 19] 0.99994228995\n",
      "[0, 1, 2, 4, 6, 7, 10, 15, 19] 0.999928857179\n",
      "[0, 1, 2, 4, 6, 7, 11, 15, 19] 0.999908220851\n",
      "[0, 1, 2, 4, 6, 7, 12, 15, 19] 0.999920147982\n",
      "[0, 1, 2, 4, 6, 7, 13, 15, 19] 0.999895953621\n",
      "[0, 1, 2, 4, 6, 7, 14, 15, 19] 0.9999238784\n",
      "[0, 1, 2, 4, 6, 7, 15, 16, 19] 0.999936863273\n",
      "[0, 1, 2, 4, 6, 7, 15, 17, 19] 0.999887491458\n",
      "[0, 1, 2, 4, 6, 7, 15, 18, 19] 0.999925381349\n",
      "[0, 1, 2, 4, 6, 7, 15, 19, 20] 0.999896887301\n",
      "[0, 1, 2, 4, 6, 7, 15, 19, 21] 0.999920173418\n",
      "[0, 1, 2, 4, 6, 7, 15, 19, 22] 0.999943789064\n",
      "[0, 1, 2, 4, 6, 7, 15, 19, 23] 0.9998823381\n",
      "[0, 1, 2, 3, 4, 5, 6, 7, 15, 19] 0.999948503833\n",
      "[0, 1, 2, 3, 4, 6, 7, 8, 15, 19] 0.999952434512\n",
      "[0, 1, 2, 3, 4, 6, 7, 9, 15, 19] 0.999949283841\n",
      "[0, 1, 2, 3, 4, 6, 7, 10, 15, 19] 0.999949047745\n",
      "[0, 1, 2, 3, 4, 6, 7, 11, 15, 19] 0.999974122914\n",
      "[0, 1, 2, 3, 4, 6, 7, 12, 15, 19] 0.99996557252\n",
      "[0, 1, 2, 3, 4, 6, 7, 13, 15, 19] 0.999950407775\n",
      "[0, 1, 2, 3, 4, 6, 7, 14, 15, 19] 0.999949038152\n",
      "[0, 1, 2, 3, 4, 6, 7, 15, 16, 19] 0.999992679209\n",
      "[0, 1, 2, 3, 4, 6, 7, 15, 17, 19] 0.999953220107\n",
      "[0, 1, 2, 3, 4, 6, 7, 15, 18, 19] 0.999950504988\n",
      "[0, 1, 2, 3, 4, 6, 7, 15, 19, 20] 0.999949741697\n",
      "[0, 1, 2, 3, 4, 6, 7, 15, 19, 21] 0.999950070576\n",
      "[0, 1, 2, 3, 4, 6, 7, 15, 19, 22] 0.999950616428\n",
      "[0, 1, 2, 3, 4, 6, 7, 15, 19, 23] 0.999948454311\n",
      "time elapsed: 379.49346923828125\n"
     ]
    }
   ],
   "source": [
    "selectsensor = SelectSensor('config.json')\n",
    "\n",
    "selectsensor.read_init_sensor('data/sensor.txt')\n",
    "selectsensor.read_mean_std('data/mean_std.txt')\n",
    "selectsensor.compute_multivariant_gaussian('data/artificial_samples.csv')\n",
    "\n",
    "start = time.time()\n",
    "selectsensor.select_offline_greedy_p(10, 4)\n",
    "print('time elapsed:', time.time()-start)"
   ]
  },
  {
   "cell_type": "code",
   "execution_count": 132,
   "metadata": {},
   "outputs": [],
   "source": [
    "#visualize the sensors and errors\n",
    "\n",
    "sensors = {}\n",
    "with open('data/sensor.txt', 'r') as f:\n",
    "    lines = f.readlines()\n",
    "    for line in lines:\n",
    "        line = line.split(' ')\n",
    "        x, y, std = int(line[0]), int(line[1]), float(line[2])\n",
    "        sensors[(x, y)] = Sensor(x, y, std)\n",
    "        \n",
    "grid = np.zeros((15, 15))\n",
    "for sensor in sensors:\n",
    "    x, y = sensor[0], sensor[1]\n",
    "    grid[x][y] = 1\n",
    "\n",
    "selected = [0, 1, 2, 3, 4, 6, 7, 15, 19, 23]\n",
    "sensor_list = list(selectsensor.sensors)\n",
    "for index in selected:\n",
    "    sensor = sensor_list[index]\n",
    "    grid[sensor[0]][sensor[1]] = -1"
   ]
  },
  {
   "cell_type": "code",
   "execution_count": 133,
   "metadata": {},
   "outputs": [
    {
     "data": {
      "image/png": "[encoded data removed]",
      "text/plain": [
       "<matplotlib.figure.Figure at 0x1a1cfdd9b0>"
      ]
     },
     "metadata": {},
     "output_type": "display_data"
    }
   ],
   "source": [
    "sns.set(style=\"white\")\n",
    "\n",
    "# Set up the matplotlib figure\n",
    "f, ax = plt.subplots(figsize=(7, 7))\n",
    "\n",
    "# Generate a custom diverging colormap\n",
    "cmap = sns.diverging_palette(220, 10, as_cmap=True)\n",
    "\n",
    "# Draw the heatmap with the mask and correct aspect ratio\n",
    "sns.heatmap(grid, cmap=cmap, vmax=1, center=0,\n",
    "            square=True, linewidth=3, cbar_kws={\"shrink\": .5})\n",
    "\n",
    "plt.show()"
   ]
  },
  {
   "cell_type": "code",
   "execution_count": 29,
   "metadata": {
    "collapsed": true
   },
   "outputs": [],
   "source": [
    "# visualize selected and not selected sensors\n",
    "\n",
    "sensors = {}\n",
    "with open('data/sensor.txt', 'r') as f:\n",
    "    lines = f.readlines()\n",
    "    for line in lines:\n",
    "        line = line.split(' ')\n",
    "        x, y, std = int(line[0]), int(line[1]), float(line[2])\n",
    "        sensors[(x, y)] = Sensor(x, y, std)\n",
    "        \n",
    "grid = np.zeros((15, 15))\n",
    "selected = [0, 3, 6, 8, 9, 12, 15, 17, 18, 19]\n",
    "i, j = 0, 0\n",
    "for sensor in sensors:\n",
    "    x, y = sensor[0], sensor[1]\n",
    "    if i == selected[j]:\n",
    "        grid[x][y] = 1\n",
    "        j += 1\n",
    "    else:\n",
    "        grid[x][y] = -1\n",
    "    i += 1"
   ]
  },
  {
   "cell_type": "code",
   "execution_count": 221,
   "metadata": {
    "collapsed": true
   },
   "outputs": [],
   "source": [
    "myconfig = {\n",
    "    256: 0.388882393442197,\n",
    "    512: 0.38711563194200865,\n",
    "    1024: 0.3982618184652559,\n",
    "    2048: 0.4226197435597646,\n",
    "    4096: 0.4608519427881055,\n",
    "    8192: 0.5318082024500825,\n",
    "    16384: 0.6709536614833002\n",
    "}"
   ]
  },
  {
   "cell_type": "code",
   "execution_count": null,
   "metadata": {
    "collapsed": true,
    "scrolled": false
   },
   "outputs": [],
   "source": [
    "homo = pd.read_csv('data2/homogeneous/hypothesis', header=None, delimiter=' ')\n",
    "homo[5] = homo[5].astype(float)\n",
    "homo"
   ]
  },
  {
   "cell_type": "code",
   "execution_count": 267,
   "metadata": {
    "collapsed": true
   },
   "outputs": [],
   "source": [
    "size = len(homo)\n",
    "homo[5]\n",
    "for i in range(size):\n",
    "    config = homo.iloc[i, 5]\n",
    "    homo.set_value(i, 5, myconfig.get(config))"
   ]
  },
  {
   "cell_type": "code",
   "execution_count": 268,
   "metadata": {
    "collapsed": true
   },
   "outputs": [],
   "source": [
    "homo.to_csv('data2/homogeneous/hypothesis', header=False, index=False)"
   ]
  },
  {
   "cell_type": "code",
   "execution_count": null,
   "metadata": {
    "collapsed": true,
    "scrolled": true
   },
   "outputs": [],
   "source": [
    "homo"
   ]
  },
  {
   "cell_type": "code",
   "execution_count": 203,
   "metadata": {},
   "outputs": [
    {
     "data": {
      "text/plain": [
       "0.38887482106213006"
      ]
     },
     "execution_count": 203,
     "metadata": {},
     "output_type": "execute_result"
    }
   ],
   "source": [
    "myconfig.get(256)"
   ]
  },
  {
   "cell_type": "code",
   "execution_count": null,
   "metadata": {
    "collapsed": true,
    "scrolled": false
   },
   "outputs": [],
   "source": [
    "hetero = pd.read_csv('data2/heterogeneous/hypothesis', header=None, delimiter=' ')\n",
    "hetero[5] = hetero[5].astype(float)\n",
    "hetero"
   ]
  },
  {
   "cell_type": "code",
   "execution_count": 273,
   "metadata": {
    "collapsed": true
   },
   "outputs": [],
   "source": [
    "size = len(hetero)\n",
    "hetero[5]\n",
    "for i in range(size):\n",
    "    config = hetero.iloc[i, 5]\n",
    "    hetero.set_value(i, 5, myconfig.get(config))"
   ]
  },
  {
   "cell_type": "code",
   "execution_count": 274,
   "metadata": {
    "collapsed": true
   },
   "outputs": [],
   "source": [
    "hetero.to_csv('data2/heterogeneous/hypothesis', header=False, index=False)"
   ]
  },
  {
   "cell_type": "code",
   "execution_count": null,
   "metadata": {
    "collapsed": true,
    "scrolled": true
   },
   "outputs": [],
   "source": [
    "subset_to_compute = []\n",
    "ot_approx = []\n",
    "with open('plot_data3/ot_approx', 'r') as f:\n",
    "    lines = f.readlines()\n",
    "    for line in lines:\n",
    "        line = line.replace('[', '')\n",
    "        line = line.replace(']', ',')\n",
    "        line = line.replace('\\n', '')\n",
    "        line = line.replace(' ', '')\n",
    "        line = line.split(',')\n",
    "        size = len(line)\n",
    "        subset = []\n",
    "        for i in range(size-1):\n",
    "            index = int(line[i])\n",
    "            subset.append(index)\n",
    "        ot_approx.append(line[size-1])\n",
    "        subset_to_compute.append(subset)\n",
    "print(subset_to_compute)\n",
    "print(ot_approx)"
   ]
  },
  {
   "cell_type": "code",
   "execution_count": 263,
   "metadata": {
    "collapsed": true
   },
   "outputs": [],
   "source": [
    "num = [i for i in range(1, len(ot_approx)+1)]\n",
    "ot_a = pd.DataFrame(np.array([num, ot_approx]).T)"
   ]
  },
  {
   "cell_type": "code",
   "execution_count": 265,
   "metadata": {
    "collapsed": true
   },
   "outputs": [],
   "source": [
    "ot_a.to_csv('plot_data3/ot_approx.csv', index=False, header=False)"
   ]
  },
  {
   "cell_type": "code",
   "execution_count": 3,
   "metadata": {},
   "outputs": [
    {
     "name": "stdout",
     "output_type": "stream",
     "text": [
      "init done!\n",
      "(4, 17)\n",
      "(27, 7)\n",
      "(27, 28)\n",
      "(5, 9)\n",
      "(26, 24)\n",
      "(5, 0)\n",
      "(2, 13)\n",
      "(0, 28)\n",
      "(14, 17)\n",
      "(16, 26)\n",
      "(0, 7)\n",
      "(24, 11)\n",
      "(8, 21)\n",
      "(19, 15)\n",
      "(20, 21)\n",
      "(5, 6)\n",
      "(24, 18)\n",
      "(6, 27)\n",
      "(21, 8)\n",
      "(25, 2)\n",
      "(17, 0)\n",
      "(23, 25)\n",
      "(15, 8)\n",
      "(22, 3)\n",
      "(11, 2)\n",
      "(12, 22)\n",
      "(9, 9)\n",
      "(3, 22)\n"
     ]
    }
   ],
   "source": [
    "selectsensor = SelectSensor('config.json')\n",
    " \n",
    "selectsensor.init_from_real_data('data2/homogeneous/cov', 'data2/homogeneous/sensors', 'data2/homogeneous/hypothesis')\n",
    "sen_index = [1, 9, 13, 17, 21, 22, 23, 25, 27, 31, 33, 47, 51, 55, 60, 64, 67, 68, 69, 73, 74, 78, 80, 82, 88, 94, 95, 96]\n",
    "sensor_list = list(selectsensor.sensors)\n",
    "for index in sen_index: \n",
    "    print(sensor_list[index])"
   ]
  },
  {
   "cell_type": "code",
   "execution_count": 2,
   "metadata": {},
   "outputs": [
    {
     "name": "stdout",
     "output_type": "stream",
     "text": [
      "Computed covariance!\n"
     ]
    }
   ],
   "source": [
    "selectsensor = SelectSensor('config.json')\n",
    "\n",
    "selectsensor.read_init_sensor('data/sensor.txt')\n",
    "selectsensor.read_mean_std('data/mean_std.txt')\n",
    "selectsensor.compute_multivariant_gaussian('data/artificial_samples.csv')"
   ]
  },
  {
   "cell_type": "code",
   "execution_count": 20,
   "metadata": {},
   "outputs": [
    {
     "name": "stdout",
     "output_type": "stream",
     "text": [
      "84\n"
     ]
    }
   ],
   "source": [
    "counter = 0\n",
    "for i in range(24, 0, -1):\n",
    "    counter += math.ceil(i/4)\n",
    "print(counter)"
   ]
  },
  {
   "cell_type": "code",
   "execution_count": 3,
   "metadata": {},
   "outputs": [
    {
     "data": {
      "text/plain": [
       "0.8811838884567238"
      ]
     },
     "execution_count": 3,
     "metadata": {},
     "output_type": "execute_result"
    }
   ],
   "source": [
    "selectsensor.o_t_approximate([1, 2, 3, 4, 5])"
   ]
  },
  {
   "cell_type": "code",
   "execution_count": 3,
   "metadata": {},
   "outputs": [
    {
     "data": {
      "text/plain": [
       "0.8811838884567238"
      ]
     },
     "execution_count": 3,
     "metadata": {},
     "output_type": "execute_result"
    }
   ],
   "source": [
    "selectsensor.o_t_approximate([1, 2, 3, 4, 5])"
   ]
  },
  {
   "cell_type": "code",
   "execution_count": 8,
   "metadata": {},
   "outputs": [
    {
     "name": "stdout",
     "output_type": "stream",
     "text": [
      "3.54 s ± 74.3 ms per loop (mean ± std. dev. of 7 runs, 1 loop each)\n"
     ]
    }
   ],
   "source": [
    "%timeit selectsensor.o_t_approximate([0, 1, 2, 3, 4, 5, 6, 7, 8, 9, 10, 11, 12, 13, 14, 15])"
   ]
  },
  {
   "cell_type": "code",
   "execution_count": 9,
   "metadata": {},
   "outputs": [
    {
     "name": "stdout",
     "output_type": "stream",
     "text": [
      "145 ms ± 783 µs per loop (mean ± std. dev. of 7 runs, 10 loops each)\n"
     ]
    }
   ],
   "source": [
    "%timeit selectsensor.o_t_approximate_2([0, 1, 2, 3, 4, 5, 6, 7, 8, 9, 10, 11, 12, 13, 14, 15])"
   ]
  },
  {
   "cell_type": "code",
   "execution_count": 5,
   "metadata": {
    "collapsed": true
   },
   "outputs": [],
   "source": [
    "cov = np.arange(16).reshape(4, 4)"
   ]
  },
  {
   "cell_type": "code",
   "execution_count": 8,
   "metadata": {},
   "outputs": [
    {
     "data": {
      "text/plain": [
       "array([[ 0,  1,  2,  3],\n",
       "       [ 4,  5,  6,  7],\n",
       "       [ 8,  9, 10, 11],\n",
       "       [12, 13, 14, 15]])"
      ]
     },
     "execution_count": 8,
     "metadata": {},
     "output_type": "execute_result"
    }
   ],
   "source": [
    "cov"
   ]
  }
 ],
 "metadata": {
  "kernelspec": {
   "display_name": "Python 3",
   "language": "python",
   "name": "python3"
  },
  "language_info": {
   "codemirror_mode": {
    "name": "ipython",
    "version": 3
   },
   "file_extension": ".py",
   "mimetype": "text/x-python",
   "name": "python",
   "nbconvert_exporter": "python",
   "pygments_lexer": "ipython3",
   "version": "3.6.3"
  }
 },
 "nbformat": 4,
 "nbformat_minor": 2
}
