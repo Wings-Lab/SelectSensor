{
 "cells": [
  {
   "cell_type": "code",
   "execution_count": 5,
   "metadata": {
    "collapsed": true
   },
   "outputs": [],
   "source": [
    "import select_sensor\n",
    "import numpy as np\n",
    "import matplotlib.pyplot as plt\n",
    "from scipy.stats import multivariate_normal\n",
    "import traceback"
   ]
  },
  {
   "cell_type": "code",
   "execution_count": 5,
   "metadata": {
    "collapsed": true
   },
   "outputs": [
    {
     "name": "stdout",
     "output_type": "stream",
     "text": [
      "transmitter:  (31, 14)  \n",
      "\n",
      "sensors:\n",
      "\n",
      "(3, 5)    mean = 0.034001  std = 4.160092\n",
      "(35, 19)  mean = 0.156174  std = 4.899309\n",
      "(31, 33)  mean = 0.052632  std = 4.190695\n",
      "(48, 21)  mean = 0.054393  std = 4.188502\n",
      "(15, 6)   mean = 0.055902  std = 3.940554\n",
      "(26, 6)   mean = 0.106000  std = 4.036675\n",
      "(40, 7)   mean = 0.087706  std = 4.079905\n",
      "(13, 31)  mean = 0.040390  std = 3.802077\n",
      "(18, 10)  mean = 0.073521  std = 3.172714\n",
      "(11, 7)   mean = 0.047193  std = 4.978692\n",
      "(5, 26)   mean = 0.034922  std = 3.955003\n",
      "(6, 2)    mean = 0.036061  std = 3.730538\n",
      "(45, 32)  mean = 0.043853  std = 3.001000\n",
      "(41, 46)  mean = 0.029827  std = 4.173872\n",
      "(2, 28)   mean = 0.031054  std = 4.653864\n",
      "(20, 22)  mean = 0.073521  std = 3.252700\n",
      "(29, 7)   mean = 0.137361  std = 3.121174\n",
      "(18, 45)  mean = 0.029748  std = 4.050551\n",
      "(15, 9)   mean = 0.059655  std = 4.872811\n",
      "(3, 40)   mean = 0.026171  std = 3.872112\n",
      "(13, 41)  mean = 0.030817  std = 4.825383\n",
      "(47, 46)  mean = 0.027951  std = 3.274983\n",
      "(20, 44)  mean = 0.031296  std = 3.481421\n",
      "(35, 41)  mean = 0.036637  std = 3.361930\n",
      "(31, 12)  mean = 0.500000  std = 4.187656\n",
      "(44, 3)   mean = 0.058722  std = 3.404628\n",
      "(16, 35)  mean = 0.038749  std = 3.806649\n",
      "(32, 6)   mean = 0.124035  std = 3.503590\n",
      "(39, 10)  mean = 0.111803  std = 3.076110\n",
      "(42, 13)  mean = 0.090536  std = 3.109420\n",
      "(30, 17)  mean = 0.316228  std = 4.085863\n",
      "(11, 8)   mean = 0.047891  std = 4.094594\n",
      "(14, 21)  mean = 0.054393  std = 3.914153\n",
      "(35, 4)   mean = 0.092848  std = 4.392909\n",
      "(29, 4)   mean = 0.098058  std = 3.417128\n",
      "(18, 16)  mean = 0.076029  std = 4.411052\n",
      "(4, 41)   mean = 0.026189  std = 3.072432\n",
      "(37, 1)   mean = 0.069843  std = 4.624177\n",
      "(35, 18)  mean = 0.176777  std = 3.194535\n",
      "(30, 26)  mean = 0.083045  std = 3.156957\n",
      "(33, 2)   mean = 0.082199  std = 4.348991\n",
      "(47, 30)  mean = 0.044194  std = 3.094671\n",
      "(25, 10)  mean = 0.138675  std = 3.195470\n",
      "(21, 18)  mean = 0.092848  std = 3.439300\n",
      "(39, 43)  mean = 0.033241  std = 4.735633\n",
      "(44, 17)  mean = 0.074953  std = 3.876721\n",
      "(2, 47)   mean = 0.022763  std = 4.278395\n",
      "(41, 18)  mean = 0.092848  std = 3.465357\n",
      "(31, 17)  mean = 0.333333  std = 3.066911\n",
      "(27, 4)   mean = 0.092848  std = 3.633422\n",
      "(47, 25)  mean = 0.051503  std = 4.421626\n",
      "(28, 26)  mean = 0.080845  std = 3.910408\n",
      "(10, 47)  mean = 0.025565  std = 4.233113\n",
      "(15, 22)  mean = 0.055902  std = 3.677944\n",
      "(5, 6)    mean = 0.036761  std = 3.508679\n",
      "(19, 29)  mean = 0.052058  std = 4.765529\n",
      "(34, 24)  mean = 0.095783  std = 4.942588\n",
      "(10, 24)  mean = 0.042993  std = 3.627011\n",
      "(18, 29)  mean = 0.050379  std = 4.840930\n",
      "(31, 47)  mean = 0.030303  std = 3.183605\n",
      "(16, 24)  mean = 0.055470  std = 3.986771\n",
      "(34, 32)  mean = 0.054800  std = 4.959803\n",
      "(10, 16)  mean = 0.047405  std = 4.607791\n",
      "(33, 25)  mean = 0.089443  std = 3.369131\n",
      "(48, 18)  mean = 0.057260  std = 3.020181\n",
      "(34, 38)  mean = 0.041345  std = 4.325526\n",
      "(14, 48)  mean = 0.026307  std = 4.044995\n",
      "(33, 35)  mean = 0.047405  std = 3.217789\n",
      "(23, 36)  mean = 0.042718  std = 3.658775\n",
      "(23, 28)  mean = 0.062017  std = 4.669642\n",
      "(45, 18)  mean = 0.068680  std = 3.331791\n",
      "(9, 15)   mean = 0.045408  std = 3.501080\n",
      "(28, 47)  mean = 0.030179  std = 3.893502\n",
      "(22, 21)  mean = 0.087706  std = 3.649617\n",
      "(38, 9)   mean = 0.116248  std = 4.968151\n",
      "(14, 9)   mean = 0.056433  std = 3.254305\n",
      "(36, 48)  mean = 0.029099  std = 4.851203\n",
      "(28, 15)  mean = 0.316228  std = 4.440764\n",
      "(10, 8)   mean = 0.045787  std = 3.278447\n",
      "(28, 32)  mean = 0.054800  std = 3.671643\n",
      "(41, 32)  mean = 0.048564  std = 3.833054\n",
      "(39, 39)  mean = 0.038097  std = 3.864751\n",
      "(15, 5)   mean = 0.054473  std = 4.768678\n",
      "(49, 44)  mean = 0.028583  std = 4.726247\n",
      "(9, 49)   mean = 0.024190  std = 3.261975\n",
      "(14, 38)  mean = 0.034001  std = 4.531539\n",
      "(39, 37)  mean = 0.041065  std = 4.614493\n",
      "(46, 13)  mean = 0.066519  std = 4.882208\n",
      "(16, 47)  mean = 0.027587  std = 4.838255\n",
      "(1, 25)   mean = 0.031296  std = 4.658687\n",
      "(1, 18)   mean = 0.033041  std = 3.555641\n",
      "(37, 0)   mean = 0.065653  std = 3.764455\n",
      "(33, 26)  mean = 0.082199  std = 3.313432\n",
      "(21, 20)  mean = 0.085749  std = 3.590914\n",
      "(23, 15)  mean = 0.124035  std = 3.039527\n",
      "(19, 39)  mean = 0.036061  std = 4.116188\n",
      "(49, 7)   mean = 0.051778  std = 4.482797\n",
      "(42, 47)  mean = 0.028748  std = 4.706948\n",
      "(45, 37)  mean = 0.037139  std = 3.199309\n",
      "(44, 16)  mean = 0.076029  std = 3.279009\n",
      "(8, 35)   mean = 0.032108  std = 4.543240\n",
      "(29, 10)  mean = 0.223607  std = 3.015500\n",
      "(35, 23)  mean = 0.101535  std = 3.134300\n",
      "(15, 29)  mean = 0.045596  std = 4.045150\n",
      "(10, 38)  mean = 0.031357  std = 4.641639\n",
      "(20, 18)  mean = 0.085436  std = 4.745641\n",
      "(19, 14)  mean = 0.083333  std = 3.650846\n",
      "(44, 41)  mean = 0.033370  std = 3.445759\n",
      "(19, 46)  mean = 0.029260  std = 3.359035\n",
      "(0, 36)   mean = 0.026307  std = 4.014971\n",
      "(15, 14)  mean = 0.062500  std = 3.900224\n",
      "(26, 28)  mean = 0.067267  std = 4.685502\n",
      "(49, 15)  mean = 0.055470  std = 3.108664\n",
      "(41, 35)  mean = 0.042993  std = 3.310536\n",
      "(36, 5)   mean = 0.097129  std = 4.562024\n",
      "(23, 40)  mean = 0.036761  std = 4.809364\n",
      "(1, 42)   mean = 0.024369  std = 3.003589\n",
      "(39, 1)   mean = 0.065512  std = 4.523860\n",
      "(23, 17)  mean = 0.117041  std = 4.206969\n",
      "(31, 48)  mean = 0.029412  std = 4.610869\n",
      "(44, 10)  mean = 0.073521  std = 3.303998\n",
      "(3, 11)   mean = 0.035511  std = 4.376620\n",
      "(1, 7)    mean = 0.032461  std = 3.280373\n",
      "(47, 29)  mean = 0.045596  std = 3.773933\n",
      "(42, 14)  mean = 0.090909  std = 3.538577\n",
      "(17, 31)  mean = 0.045408  std = 3.036248\n",
      "(22, 40)  mean = 0.036346  std = 4.141154\n",
      "(47, 40)  mean = 0.032756  std = 4.282010\n",
      "(45, 41)  mean = 0.032880  std = 4.225198\n",
      "(0, 35)   mean = 0.026707  std = 3.122145\n",
      "(11, 9)   mean = 0.048507  std = 4.656478\n",
      "(47, 6)   mean = 0.055902  std = 4.510966\n",
      "(27, 31)  mean = 0.057260  std = 3.201533\n",
      "(8, 39)   mean = 0.029437  std = 4.489529\n",
      "(29, 39)  mean = 0.039873  std = 4.794052\n",
      "(26, 14)  mean = 0.200000  std = 3.144377\n",
      "(19, 47)  mean = 0.028479  std = 4.644854\n",
      "(41, 15)  mean = 0.099504  std = 4.604069\n",
      "(12, 27)  mean = 0.043437  std = 3.670676\n",
      "(17, 14)  mean = 0.071429  std = 4.077470\n",
      "(22, 11)  mean = 0.105409  std = 3.850202\n",
      "(12, 13)  mean = 0.052559  std = 4.125868\n",
      "(6, 25)   mean = 0.036613  std = 3.095826\n",
      "(13, 5)   mean = 0.049690  std = 4.067324\n",
      "(28, 19)  mean = 0.171499  std = 3.364827\n",
      "(2, 29)   mean = 0.030628  std = 4.197249\n",
      "(6, 17)   mean = 0.039715  std = 4.291654\n",
      "(44, 7)   mean = 0.067729  std = 4.292101\n",
      "(6, 4)    mean = 0.037139  std = 3.687170\n",
      "(38, 27)  mean = 0.067729  std = 3.223622\n",
      "(10, 43)  mean = 0.027929  std = 3.818683\n",
      "(42, 7)   mean = 0.076696  std = 4.295003\n",
      "(1, 49)   mean = 0.021693  std = 3.367673\n",
      "(0, 24)   mean = 0.030700  std = 3.646930\n",
      "(22, 29)  mean = 0.057166  std = 3.606719\n",
      "(28, 41)  mean = 0.036811  std = 4.208528\n",
      "(36, 19)  mean = 0.141421  std = 3.365358\n",
      "(3, 6)    mean = 0.034340  std = 3.352165\n",
      "(37, 2)   mean = 0.074536  std = 4.294621\n",
      "(46, 7)   mean = 0.060412  std = 3.360104\n",
      "(36, 26)  mean = 0.076923  std = 4.092918\n",
      "(24, 17)  mean = 0.131306  std = 4.915346\n",
      "(27, 1)   mean = 0.073521  std = 3.527105\n",
      "(28, 4)   mean = 0.095783  std = 4.803165\n",
      "(27, 3)   mean = 0.085436  std = 4.571296\n",
      "(4, 21)   mean = 0.035852  std = 4.655932\n",
      "(49, 3)   mean = 0.047405  std = 4.990455\n",
      "(8, 0)    mean = 0.037139  std = 3.467512\n",
      "(1, 21)   mean = 0.032461  std = 4.024066\n",
      "(1, 23)   mean = 0.031928  std = 3.939485\n",
      "(21, 10)  mean = 0.092848  std = 3.135949\n",
      "(33, 21)  mean = 0.137361  std = 4.123093\n",
      "(49, 48)  mean = 0.025994  std = 3.174943\n",
      "(0, 17)   mean = 0.032108  std = 4.586631\n",
      "(47, 34)  mean = 0.039043  std = 4.844169\n",
      "(35, 20)  mean = 0.138675  std = 3.042767\n",
      "(30, 21)  mean = 0.141421  std = 3.129676\n",
      "(5, 19)   mean = 0.037769  std = 3.221845\n",
      "(4, 25)   mean = 0.034300  std = 3.773173\n",
      "(6, 30)   mean = 0.033691  std = 4.819238\n",
      "(47, 4)   mean = 0.053000  std = 4.982161\n",
      "(21, 28)  mean = 0.058124  std = 3.310070\n",
      "(49, 19)  mean = 0.053529  std = 4.730181\n",
      "(46, 25)  mean = 0.053760  std = 4.000539\n",
      "(20, 8)   mean = 0.079809  std = 4.543680\n",
      "(27, 17)  mean = 0.200000  std = 4.522629\n",
      "(20, 43)  mean = 0.032241  std = 4.852293\n",
      "(8, 37)   mean = 0.030744  std = 3.767688\n",
      "(26, 3)   mean = 0.082761  std = 4.695870\n",
      "(44, 47)  mean = 0.028194  std = 4.853383\n",
      "(1, 2)    mean = 0.030949  std = 3.506964\n",
      "(24, 31)  mean = 0.054393  std = 3.052366\n",
      "(21, 34)  mean = 0.044721  std = 4.607912\n",
      "(10, 12)  mean = 0.047405  std = 3.475775\n",
      "(4, 49)   mean = 0.022622  std = 3.158332\n",
      "(17, 41)  mean = 0.032880  std = 3.021166\n",
      "(4, 29)   mean = 0.032376  std = 3.279233\n",
      "(15, 33)  mean = 0.040258  std = 3.382429\n",
      "(18, 30)  mean = 0.048507  std = 3.460611\n",
      "(9, 7)    mean = 0.043315  std = 4.137817\n"
     ]
    }
   ],
   "source": [
    "selectSensor = select_sensor.SelectSensor('config.json')\n",
    "selectSensor.print()"
   ]
  },
  {
   "cell_type": "code",
   "execution_count": 15,
   "metadata": {
    "collapsed": true
   },
   "outputs": [],
   "source": [
    "mean = [0, 0]\n",
    "cov = [[0.5, 0], [0, 0.5]]"
   ]
  },
  {
   "cell_type": "code",
   "execution_count": 150,
   "metadata": {},
   "outputs": [
    {
     "ename": "ValueError",
     "evalue": "cov must be 2 dimensional and square",
     "output_type": "error",
     "traceback": [
      "\u001b[0;31m---------------------------------------------------------------------------\u001b[0m",
      "\u001b[0;31mValueError\u001b[0m                                Traceback (most recent call last)",
      "\u001b[0;32m<ipython-input-150-b6616684f48f>\u001b[0m in \u001b[0;36m<module>\u001b[0;34m()\u001b[0m\n\u001b[0;32m----> 1\u001b[0;31m \u001b[0mnp\u001b[0m\u001b[0;34m.\u001b[0m\u001b[0mrandom\u001b[0m\u001b[0;34m.\u001b[0m\u001b[0mmultivariate_normal\u001b[0m\u001b[0;34m(\u001b[0m\u001b[0mmean\u001b[0m\u001b[0;34m,\u001b[0m \u001b[0mcov\u001b[0m\u001b[0;34m,\u001b[0m \u001b[0;36m500\u001b[0m\u001b[0;34m)\u001b[0m\u001b[0;34m\u001b[0m\u001b[0m\n\u001b[0m",
      "\u001b[0;32mmtrand.pyx\u001b[0m in \u001b[0;36mmtrand.RandomState.multivariate_normal\u001b[0;34m()\u001b[0m\n",
      "\u001b[0;31mValueError\u001b[0m: cov must be 2 dimensional and square"
     ]
    }
   ],
   "source": [
    "np.random.multivariate_normal(mean, cov, 500)"
   ]
  },
  {
   "cell_type": "code",
   "execution_count": 153,
   "metadata": {},
   "outputs": [
    {
     "ename": "SyntaxError",
     "evalue": "positional argument follows keyword argument (<ipython-input-153-6950d9e9e1b4>, line 1)",
     "output_type": "error",
     "traceback": [
      "\u001b[0;36m  File \u001b[0;32m\"<ipython-input-153-6950d9e9e1b4>\"\u001b[0;36m, line \u001b[0;32m1\u001b[0m\n\u001b[0;31m    y = np.random.multivariate_normal(mean=0, cov=1, 500)\u001b[0m\n\u001b[0m                                                    ^\u001b[0m\n\u001b[0;31mSyntaxError\u001b[0m\u001b[0;31m:\u001b[0m positional argument follows keyword argument\n"
     ]
    }
   ],
   "source": [
    "y = np.random.multivariate_normal(mean=0, cov=1, 500)\n",
    "plt.plot(y, 'x')\n",
    "plt.axis('equal')\n",
    "plt.show()"
   ]
  },
  {
   "cell_type": "code",
   "execution_count": 24,
   "metadata": {},
   "outputs": [
    {
     "data": {
      "image/png": "[encoded data removed]",
      "text/plain": [
       "<matplotlib.figure.Figure at 0x10e7db710>"
      ]
     },
     "metadata": {},
     "output_type": "display_data"
    }
   ],
   "source": [
    "x = np.linspace(0, 5, 100)\n",
    "y = multivariate_normal.pdf(x, mean=2.5, cov=0.5); y\n",
    "\n",
    "plt.plot(x, y)\n",
    "plt.show()"
   ]
  },
  {
   "cell_type": "code",
   "execution_count": 134,
   "metadata": {},
   "outputs": [
    {
     "data": {
      "image/png": "[encoded data removed]",
      "text/plain": [
       "<matplotlib.figure.Figure at 0x1a15ec73c8>"
      ]
     },
     "metadata": {},
     "output_type": "display_data"
    }
   ],
   "source": [
    "x, y = np.mgrid[0:50:1, 0:50:1]\n",
    "pos = np.zeros(x.shape + (2,))\n",
    "pos[:, :, 0] = x; pos[:, :, 1] = y\n",
    "rv = multivariate_normal([25, 25], [[250, 0], [0, 250]])\n",
    "plt.figure(figsize=(7,7))\n",
    "plt.contourf(x, y, rv.pdf(pos))\n",
    "plt.show()"
   ]
  },
  {
   "cell_type": "code",
   "execution_count": 136,
   "metadata": {},
   "outputs": [
    {
     "data": {
      "text/plain": [
       "array([[  5.22569331e-05,   5.76374525e-05,   6.33181852e-05, ...,\n",
       "          6.92811299e-05,   6.33181852e-05,   5.76374525e-05],\n",
       "       [  5.76374525e-05,   6.35719652e-05,   6.98376019e-05, ...,\n",
       "          7.64145080e-05,   6.98376019e-05,   6.35719652e-05],\n",
       "       [  6.33181852e-05,   6.98376019e-05,   7.67207782e-05, ...,\n",
       "          8.39459025e-05,   7.67207782e-05,   6.98376019e-05],\n",
       "       ..., \n",
       "       [  6.92811299e-05,   7.64145080e-05,   8.39459025e-05, ...,\n",
       "          9.18514478e-05,   8.39459025e-05,   7.64145080e-05],\n",
       "       [  6.33181852e-05,   6.98376019e-05,   7.67207782e-05, ...,\n",
       "          8.39459025e-05,   7.67207782e-05,   6.98376019e-05],\n",
       "       [  5.76374525e-05,   6.35719652e-05,   6.98376019e-05, ...,\n",
       "          7.64145080e-05,   6.98376019e-05,   6.35719652e-05]])"
      ]
     },
     "execution_count": 136,
     "metadata": {},
     "output_type": "execute_result"
    }
   ],
   "source": [
    "rv.pdf(pos)"
   ]
  },
  {
   "cell_type": "code",
   "execution_count": 155,
   "metadata": {},
   "outputs": [
    {
     "data": {
      "text/plain": [
       "array([-0.83071171,  0.81858282,  0.96619903,  0.30381744,  1.76480196,\n",
       "        0.78173124,  0.02039526, -0.21954984, -0.45863556, -0.78998909,\n",
       "        0.01913051, -0.36163942, -1.80709356, -0.08485889, -0.90631153,\n",
       "        1.29751806, -0.83552573, -0.82401814, -0.65696238,  1.07338836,\n",
       "        0.11348958, -0.57760581,  1.42974543,  0.55435839, -0.80260645,\n",
       "       -0.27916257,  0.01482235,  0.84477149,  0.48283144, -0.57736637,\n",
       "       -1.35412952, -1.19070578, -0.63398213,  0.60096092,  0.55116479,\n",
       "       -0.59111888, -1.43813662,  0.08809413, -0.42199255, -0.49319979,\n",
       "       -0.27059519, -1.27596253,  0.55350404, -0.74846936,  2.15117369,\n",
       "       -0.83069957,  0.47683282, -0.37847878,  1.64818082, -0.23239726,\n",
       "       -1.36948318, -1.36548314,  0.70444159,  0.26386536,  0.29904111,\n",
       "        0.59820782, -0.08030546, -1.44037252,  0.42031234,  1.06575759,\n",
       "       -0.15243188,  2.12559016,  0.12057482,  1.30672003, -1.03971165,\n",
       "        0.66598499, -1.94159979, -1.27661481, -0.21935895, -1.30347453,\n",
       "        1.41910133, -1.61998779, -0.91996934, -1.08503582, -1.13292917,\n",
       "        0.586643  ,  0.01283638, -0.67946821,  0.27791802, -0.54707572,\n",
       "        0.51781757,  0.20036996, -0.24804484, -0.03010101,  0.05122133,\n",
       "       -1.81604286, -0.18241196, -1.45465522, -0.94801994,  0.77934041,\n",
       "        0.4757939 ,  1.41812522,  2.98515542, -1.15369815,  2.41459947,\n",
       "        0.21714322,  0.37322036,  0.02490002,  0.14123442,  1.47891566])"
      ]
     },
     "execution_count": 155,
     "metadata": {},
     "output_type": "execute_result"
    }
   ],
   "source": [
    "np.random.normal(0, 1, 100)"
   ]
  },
  {
   "cell_type": "code",
   "execution_count": 182,
   "metadata": {
    "collapsed": true
   },
   "outputs": [],
   "source": [
    "sensors = {\n",
    "    5:'e',\n",
    "    1:'a',\n",
    "    2:'b',\n",
    "    3:'c',\n",
    "    4:'d'\n",
    "}"
   ]
  },
  {
   "cell_type": "code",
   "execution_count": 1,
   "metadata": {},
   "outputs": [],
   "source": [
    "a = [1, 2, 3]"
   ]
  },
  {
   "cell_type": "code",
   "execution_count": 4,
   "metadata": {},
   "outputs": [
    {
     "ename": "IndexError",
     "evalue": "list index out of range",
     "output_type": "error",
     "traceback": [
      "\u001b[0;31m---------------------------------------------------------------------------\u001b[0m",
      "\u001b[0;31mIndexError\u001b[0m                                Traceback (most recent call last)",
      "\u001b[0;32m<ipython-input-4-94e7916e7615>\u001b[0m in \u001b[0;36m<module>\u001b[0;34m()\u001b[0m\n\u001b[0;32m----> 1\u001b[0;31m \u001b[0ma\u001b[0m\u001b[0;34m[\u001b[0m\u001b[0;36m3\u001b[0m\u001b[0;34m]\u001b[0m\u001b[0;34m\u001b[0m\u001b[0m\n\u001b[0m",
      "\u001b[0;31mIndexError\u001b[0m: list index out of range"
     ]
    }
   ],
   "source": [
    "a[3]"
   ]
  },
  {
   "cell_type": "code",
   "execution_count": 13,
   "metadata": {},
   "outputs": [
    {
     "name": "stdout",
     "output_type": "stream",
     "text": [
      "caitao\n"
     ]
    },
    {
     "name": "stderr",
     "output_type": "stream",
     "text": [
      "Traceback (most recent call last):\n",
      "  File \"<ipython-input-13-cbb2d1ff206a>\", line 3, in <module>\n",
      "    b = 1/0\n",
      "ZeroDivisionError: division by zero\n"
     ]
    }
   ],
   "source": [
    "try:\n",
    "    a[2] = 2\n",
    "    b = 1/0\n",
    "except IndexError:\n",
    "    traceback.print_exc()\n",
    "    #print(e)\n",
    "except Exception:\n",
    "    traceback.print_exc()\n",
    "else:\n",
    "    print(\"you get here only when you uncomment 'absent'\") \n",
    "print('caitao')"
   ]
  },
  {
   "cell_type": "code",
   "execution_count": null,
   "metadata": {
    "collapsed": true
   },
   "outputs": [],
   "source": []
  }
 ],
 "metadata": {
  "kernelspec": {
   "display_name": "Python 3",
   "language": "python",
   "name": "python3"
  },
  "language_info": {
   "codemirror_mode": {
    "name": "ipython",
    "version": 3
   },
   "file_extension": ".py",
   "mimetype": "text/x-python",
   "name": "python",
   "nbconvert_exporter": "python",
   "pygments_lexer": "ipython3",
   "version": "3.6.3"
  }
 },
 "nbformat": 4,
 "nbformat_minor": 2
}
